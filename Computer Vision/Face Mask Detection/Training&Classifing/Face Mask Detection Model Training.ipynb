{
 "cells": [
  {
   "cell_type": "code",
   "execution_count": 1,
   "metadata": {
    "execution": {
     "iopub.execute_input": "2020-08-10T11:28:52.613629Z",
     "iopub.status.busy": "2020-08-10T11:28:52.613027Z",
     "iopub.status.idle": "2020-08-10T11:28:52.621073Z",
     "shell.execute_reply": "2020-08-10T11:28:52.620521Z"
    },
    "papermill": {
     "duration": 0.024088,
     "end_time": "2020-08-10T11:28:52.621188",
     "exception": false,
     "start_time": "2020-08-10T11:28:52.597100",
     "status": "completed"
    },
    "tags": []
   },
   "outputs": [
    {
     "name": "stdout",
     "output_type": "stream",
     "text": [
      "/kaggle/input/face-mask-detection-dataset/CleanedData/data.npy\n",
      "/kaggle/input/face-mask-detection-dataset/CleanedData/target.npy\n"
     ]
    }
   ],
   "source": [
    "# Input data files are available in the \"../input/\" directory.\n",
    "# For example, running this (by clicking run or pressing Shift+Enter) will list all files under the input directory\n",
    "\n",
    "import os\n",
    "for dirname, _, filenames in os.walk('/kaggle/input'):\n",
    "    for filename in filenames:\n",
    "        print(os.path.join(dirname, filename))\n",
    "\n",
    "# Any results you write to the current directory are saved as output."
   ]
  },
  {
   "cell_type": "code",
   "execution_count": 2,
   "metadata": {
    "execution": {
     "iopub.execute_input": "2020-08-10T11:28:52.645764Z",
     "iopub.status.busy": "2020-08-10T11:28:52.645026Z",
     "iopub.status.idle": "2020-08-10T11:28:58.856526Z",
     "shell.execute_reply": "2020-08-10T11:28:58.855460Z"
    },
    "id": "3TubfkW1FUjT",
    "papermill": {
     "duration": 6.225379,
     "end_time": "2020-08-10T11:28:58.856687",
     "exception": false,
     "start_time": "2020-08-10T11:28:52.631308",
     "status": "completed"
    },
    "tags": []
   },
   "outputs": [],
   "source": [
    "import numpy as np\n",
    "import matplotlib.pyplot as plt\n",
    "import tensorflow as tf\n",
    "from tensorflow.keras import Sequential\n",
    "from tensorflow.keras import layers"
   ]
  },
  {
   "cell_type": "code",
   "execution_count": 3,
   "metadata": {
    "execution": {
     "iopub.execute_input": "2020-08-10T11:28:58.883801Z",
     "iopub.status.busy": "2020-08-10T11:28:58.882488Z",
     "iopub.status.idle": "2020-08-10T11:28:58.900825Z",
     "shell.execute_reply": "2020-08-10T11:28:58.900273Z"
    },
    "id": "YhVW535JFUjc",
    "papermill": {
     "duration": 0.033343,
     "end_time": "2020-08-10T11:28:58.900926",
     "exception": false,
     "start_time": "2020-08-10T11:28:58.867583",
     "status": "completed"
    },
    "tags": []
   },
   "outputs": [],
   "source": [
    "data = np.load('/kaggle/input/face-mask-detection-dataset/CleanedData/data.npy')"
   ]
  },
  {
   "cell_type": "code",
   "execution_count": 4,
   "metadata": {
    "execution": {
     "iopub.execute_input": "2020-08-10T11:28:58.940530Z",
     "iopub.status.busy": "2020-08-10T11:28:58.938425Z",
     "iopub.status.idle": "2020-08-10T11:28:58.943677Z",
     "shell.execute_reply": "2020-08-10T11:28:58.943075Z"
    },
    "id": "5uV8fcdAFUji",
    "papermill": {
     "duration": 0.032534,
     "end_time": "2020-08-10T11:28:58.943827",
     "exception": false,
     "start_time": "2020-08-10T11:28:58.911293",
     "status": "completed"
    },
    "tags": []
   },
   "outputs": [
    {
     "data": {
      "text/plain": [
       "array([[1., 0.],\n",
       "       [1., 0.],\n",
       "       [1., 0.],\n",
       "       ...,\n",
       "       [0., 1.],\n",
       "       [0., 1.],\n",
       "       [0., 1.]], dtype=float32)"
      ]
     },
     "execution_count": 4,
     "metadata": {},
     "output_type": "execute_result"
    }
   ],
   "source": [
    "target = np.load('/kaggle/input/face-mask-detection-dataset/CleanedData/target.npy')\n",
    "target = tf.keras.utils.to_categorical(target) # converting [1,0,1,1,0...] to [[1,0],[0,1],[1,0]] i.e categorical\n",
    "target"
   ]
  },
  {
   "cell_type": "code",
   "execution_count": 5,
   "metadata": {
    "execution": {
     "iopub.execute_input": "2020-08-10T11:28:58.974760Z",
     "iopub.status.busy": "2020-08-10T11:28:58.973763Z",
     "iopub.status.idle": "2020-08-10T11:28:59.190138Z",
     "shell.execute_reply": "2020-08-10T11:28:59.190664Z"
    },
    "id": "hVUgdrhpFUjq",
    "outputId": "48624fbd-8615-4b99-c498-582e2ea05771",
    "papermill": {
     "duration": 0.234775,
     "end_time": "2020-08-10T11:28:59.190851",
     "exception": false,
     "start_time": "2020-08-10T11:28:58.956076",
     "status": "completed"
    },
    "tags": []
   },
   "outputs": [
    {
     "data": {
      "text/plain": [
       "<matplotlib.image.AxesImage at 0x7f3f1b5192d0>"
      ]
     },
     "execution_count": 5,
     "metadata": {},
     "output_type": "execute_result"
    },
    {
     "data": {
      "image/png": "[encoded data removed]",
      "text/plain": [
       "<Figure size 432x288 with 1 Axes>"
      ]
     },
     "metadata": {
      "needs_background": "light"
     },
     "output_type": "display_data"
    }
   ],
   "source": [
    "plt.imshow(data[890],cmap='gray')"
   ]
  },
  {
   "cell_type": "code",
   "execution_count": 6,
   "metadata": {
    "execution": {
     "iopub.execute_input": "2020-08-10T11:28:59.225156Z",
     "iopub.status.busy": "2020-08-10T11:28:59.224294Z",
     "iopub.status.idle": "2020-08-10T11:28:59.228297Z",
     "shell.execute_reply": "2020-08-10T11:28:59.228775Z"
    },
    "id": "vz5A9GHeFUjy",
    "outputId": "dbedef1f-aab0-4b77-cc65-964478dde915",
    "papermill": {
     "duration": 0.023596,
     "end_time": "2020-08-10T11:28:59.228909",
     "exception": false,
     "start_time": "2020-08-10T11:28:59.205313",
     "status": "completed"
    },
    "tags": []
   },
   "outputs": [
    {
     "data": {
      "text/plain": [
       "array([0., 1.], dtype=float32)"
      ]
     },
     "execution_count": 6,
     "metadata": {},
     "output_type": "execute_result"
    }
   ],
   "source": [
    "target[890]"
   ]
  },
  {
   "cell_type": "markdown",
   "execution_count": null,
   "metadata": {
    "id": "oXn7JfjsZSMk",
    "papermill": {
     "duration": 0.012462,
     "end_time": "2020-08-10T11:28:59.254470",
     "exception": false,
     "start_time": "2020-08-10T11:28:59.242008",
     "status": "completed"
    },
    "tags": []
   },
   "source": [
    "tf.image.grayscale_to_rgb(tf.convert_to_tensor(data[0].reshape((*data[0].shape,1)))).numpy().shape"
   ]
  },
  {
   "cell_type": "code",
   "execution_count": 7,
   "metadata": {
    "execution": {
     "iopub.execute_input": "2020-08-10T11:28:59.286685Z",
     "iopub.status.busy": "2020-08-10T11:28:59.286058Z",
     "iopub.status.idle": "2020-08-10T11:29:03.514271Z",
     "shell.execute_reply": "2020-08-10T11:29:03.513578Z"
    },
    "id": "QVby0qqES9uB",
    "papermill": {
     "duration": 4.246878,
     "end_time": "2020-08-10T11:29:03.514414",
     "exception": false,
     "start_time": "2020-08-10T11:28:59.267536",
     "status": "completed"
    },
    "tags": []
   },
   "outputs": [],
   "source": [
    "# we need to create a 3D image since our image have only one channel as its a greyscale img.\n",
    "# so we will just replicate the image 3 times to create a 3d image.\n",
    "# for this process tf.image.grayscale_to_rgb comes handy.\n",
    "# https://www.tensorflow.org/api_docs/python/tf/image/grayscale_to_rgb\n",
    "# why RESHAPE - https://github.com/tensorflow/tensorflow/issues/26324 \n",
    "# preprocessing\n",
    "odata = data.copy()\n",
    "ndata = []\n",
    "for i in odata:\n",
    "  image = i.reshape((*i.shape,1)) # as tf.image.grayscale_to_rgb requires last dimension to be 1, see why reshape link\n",
    "  image = tf.convert_to_tensor(image)  # as tf.image.grayscale_to_rgb requires tensor for processing.\n",
    "  ndata.append(tf.image.grayscale_to_rgb(image).numpy()/255.) # .numpy will convert dtype to numpy from tf\n",
    "\n",
    "data = ndata.copy()"
   ]
  },
  {
   "cell_type": "code",
   "execution_count": 8,
   "metadata": {
    "execution": {
     "iopub.execute_input": "2020-08-10T11:29:03.544238Z",
     "iopub.status.busy": "2020-08-10T11:29:03.543471Z",
     "iopub.status.idle": "2020-08-10T11:29:04.304301Z",
     "shell.execute_reply": "2020-08-10T11:29:04.303622Z"
    },
    "id": "yD6qXxDDFUj3",
    "papermill": {
     "duration": 0.776963,
     "end_time": "2020-08-10T11:29:04.304438",
     "exception": false,
     "start_time": "2020-08-10T11:29:03.527475",
     "status": "completed"
    },
    "tags": []
   },
   "outputs": [],
   "source": [
    "from sklearn.model_selection import train_test_split"
   ]
  },
  {
   "cell_type": "code",
   "execution_count": 9,
   "metadata": {
    "execution": {
     "iopub.execute_input": "2020-08-10T11:29:04.337783Z",
     "iopub.status.busy": "2020-08-10T11:29:04.336325Z",
     "iopub.status.idle": "2020-08-10T11:29:04.373914Z",
     "shell.execute_reply": "2020-08-10T11:29:04.374407Z"
    },
    "id": "fWd1uXIjfa4q",
    "outputId": "bcd8bbe2-7e34-42a8-f52d-faf50a7b225d",
    "papermill": {
     "duration": 0.056152,
     "end_time": "2020-08-10T11:29:04.374558",
     "exception": false,
     "start_time": "2020-08-10T11:29:04.318406",
     "status": "completed"
    },
    "tags": []
   },
   "outputs": [
    {
     "data": {
      "text/plain": [
       "(1651, 50, 50, 3)"
      ]
     },
     "execution_count": 9,
     "metadata": {},
     "output_type": "execute_result"
    }
   ],
   "source": [
    "np.shape(data)"
   ]
  },
  {
   "cell_type": "code",
   "execution_count": 10,
   "metadata": {
    "execution": {
     "iopub.execute_input": "2020-08-10T11:29:04.411416Z",
     "iopub.status.busy": "2020-08-10T11:29:04.410003Z",
     "iopub.status.idle": "2020-08-10T11:29:04.448072Z",
     "shell.execute_reply": "2020-08-10T11:29:04.447438Z"
    },
    "id": "syYZfg4jFUj9",
    "papermill": {
     "duration": 0.060041,
     "end_time": "2020-08-10T11:29:04.448194",
     "exception": false,
     "start_time": "2020-08-10T11:29:04.388153",
     "status": "completed"
    },
    "tags": []
   },
   "outputs": [],
   "source": [
    "trainx, testx, trainy, testy = train_test_split(data,\n",
    "                                                target,\n",
    "                                                test_size=0.15,\n",
    "                                                random_state=345,\n",
    "                                                shuffle=True)\n",
    "# we need to convert list to np array for tensorflow\n",
    "trainx = np.array(trainx)\n",
    "testx = np.array(testx)"
   ]
  },
  {
   "cell_type": "code",
   "execution_count": 11,
   "metadata": {
    "execution": {
     "iopub.execute_input": "2020-08-10T11:29:04.480030Z",
     "iopub.status.busy": "2020-08-10T11:29:04.479128Z",
     "iopub.status.idle": "2020-08-10T11:29:04.483424Z",
     "shell.execute_reply": "2020-08-10T11:29:04.482824Z"
    },
    "id": "c9d9noDxi-JL",
    "outputId": "c5d2bd63-376b-48c8-b8cd-d28892ba155f",
    "papermill": {
     "duration": 0.022305,
     "end_time": "2020-08-10T11:29:04.483539",
     "exception": false,
     "start_time": "2020-08-10T11:29:04.461234",
     "status": "completed"
    },
    "tags": []
   },
   "outputs": [
    {
     "data": {
      "text/plain": [
       "(1403, 2)"
      ]
     },
     "execution_count": 11,
     "metadata": {},
     "output_type": "execute_result"
    }
   ],
   "source": [
    "trainy.shape"
   ]
  },
  {
   "cell_type": "code",
   "execution_count": 12,
   "metadata": {
    "execution": {
     "iopub.execute_input": "2020-08-10T11:29:04.523305Z",
     "iopub.status.busy": "2020-08-10T11:29:04.522315Z",
     "iopub.status.idle": "2020-08-10T11:29:05.763264Z",
     "shell.execute_reply": "2020-08-10T11:29:05.763762Z"
    },
    "papermill": {
     "duration": 1.266326,
     "end_time": "2020-08-10T11:29:05.763925",
     "exception": false,
     "start_time": "2020-08-10T11:29:04.497599",
     "status": "completed"
    },
    "tags": []
   },
   "outputs": [
    {
     "data": {
      "image/png": "[encoded data removed]",
      "text/plain": [
       "<Figure size 2160x2160 with 9 Axes>"
      ]
     },
     "metadata": {
      "needs_background": "light"
     },
     "output_type": "display_data"
    }
   ],
   "source": [
    "plt.figure(figsize=[30,30])\n",
    "for i in np.arange(1,10):\n",
    "    plt.subplot(int(f\"19{i}\"))\n",
    "    plt.imshow(trainx[np.random.randint(0,1403)], cmap='gray')"
   ]
  },
  {
   "cell_type": "code",
   "execution_count": 13,
   "metadata": {
    "execution": {
     "iopub.execute_input": "2020-08-10T11:29:05.804778Z",
     "iopub.status.busy": "2020-08-10T11:29:05.798977Z",
     "iopub.status.idle": "2020-08-10T11:29:06.262612Z",
     "shell.execute_reply": "2020-08-10T11:29:06.263106Z"
    },
    "papermill": {
     "duration": 0.485342,
     "end_time": "2020-08-10T11:29:06.263251",
     "exception": false,
     "start_time": "2020-08-10T11:29:05.777909",
     "status": "completed"
    },
    "tags": []
   },
   "outputs": [
    {
     "data": {
      "text/plain": [
       "<matplotlib.image.AxesImage at 0x7f3e80991f50>"
      ]
     },
     "execution_count": 13,
     "metadata": {},
     "output_type": "execute_result"
    },
    {
     "data": {
      "image/png": "[encoded data removed]",
      "text/plain": [
       "<Figure size 432x288 with 4 Axes>"
      ]
     },
     "metadata": {
      "needs_background": "light"
     },
     "output_type": "display_data"
    }
   ],
   "source": [
    "plt.subplot(221)\n",
    "plt.imshow(trainx[np.random.randint(0,1440)], cmap='gray')\n",
    "plt.subplot(222)\n",
    "plt.imshow(trainx[np.random.randint(0,1440)], cmap='gray')\n",
    "plt.subplot(223)\n",
    "plt.imshow(trainx[np.random.randint(0,1440)], cmap='gray')\n",
    "plt.subplot(224)\n",
    "plt.imshow(trainx[np.random.randint(0,1440)], cmap='gray')"
   ]
  },
  {
   "cell_type": "code",
   "execution_count": 14,
   "metadata": {
    "execution": {
     "iopub.execute_input": "2020-08-10T11:29:06.298448Z",
     "iopub.status.busy": "2020-08-10T11:29:06.297478Z",
     "iopub.status.idle": "2020-08-10T11:29:06.301229Z",
     "shell.execute_reply": "2020-08-10T11:29:06.301762Z"
    },
    "id": "DMRnTYkhFUkI",
    "outputId": "bdf06bba-4428-4750-c576-ff6d5c641813",
    "papermill": {
     "duration": 0.023994,
     "end_time": "2020-08-10T11:29:06.301913",
     "exception": false,
     "start_time": "2020-08-10T11:29:06.277919",
     "status": "completed"
    },
    "tags": []
   },
   "outputs": [
    {
     "data": {
      "text/plain": [
       "array([0., 1.], dtype=float32)"
      ]
     },
     "execution_count": 14,
     "metadata": {},
     "output_type": "execute_result"
    }
   ],
   "source": [
    "trainy[0]"
   ]
  },
  {
   "cell_type": "code",
   "execution_count": 15,
   "metadata": {
    "execution": {
     "iopub.execute_input": "2020-08-10T11:29:06.334881Z",
     "iopub.status.busy": "2020-08-10T11:29:06.334053Z",
     "iopub.status.idle": "2020-08-10T11:29:06.337943Z",
     "shell.execute_reply": "2020-08-10T11:29:06.337390Z"
    },
    "id": "2rMskuhCFUkU",
    "outputId": "f9e8ad1f-da5d-47ca-e2fd-ea56ab21e004",
    "papermill": {
     "duration": 0.021952,
     "end_time": "2020-08-10T11:29:06.338052",
     "exception": false,
     "start_time": "2020-08-10T11:29:06.316100",
     "status": "completed"
    },
    "tags": []
   },
   "outputs": [
    {
     "data": {
      "text/plain": [
       "(50, 50, 3)"
      ]
     },
     "execution_count": 15,
     "metadata": {},
     "output_type": "execute_result"
    }
   ],
   "source": [
    "img_shape = trainx[0].shape\n",
    "img_shape  "
   ]
  },
  {
   "cell_type": "code",
   "execution_count": 16,
   "metadata": {
    "execution": {
     "iopub.execute_input": "2020-08-10T11:29:06.380257Z",
     "iopub.status.busy": "2020-08-10T11:29:06.379571Z",
     "iopub.status.idle": "2020-08-10T11:29:06.587725Z",
     "shell.execute_reply": "2020-08-10T11:29:06.587140Z"
    },
    "papermill": {
     "duration": 0.235106,
     "end_time": "2020-08-10T11:29:06.587873",
     "exception": false,
     "start_time": "2020-08-10T11:29:06.352767",
     "status": "completed"
    },
    "tags": []
   },
   "outputs": [],
   "source": [
    "model=Sequential()\n",
    "\n",
    "model.add(layers.Conv2D(32,(3,3),input_shape=img_shape))\n",
    "# model.add(layers.Activation('relu'))\n",
    "model.add(layers.MaxPooling2D(pool_size=(2,2)))\n",
    "\n",
    "model.add(layers.Conv2D(64,(3,3)))\n",
    "model.add(layers.Activation('relu'))\n",
    "model.add(layers.MaxPooling2D(pool_size=(2,2)))\n",
    "\n",
    "model.add(layers.Conv2D(128,(3,3)))\n",
    "model.add(layers.Activation('relu'))\n",
    "model.add(layers.MaxPooling2D(pool_size=(2,2)))\n",
    "\n",
    "model.add(layers.Conv2D(256,(3,3)))\n",
    "model.add(layers.Activation('relu'))\n",
    "model.add(layers.MaxPooling2D(pool_size=(2,2)))\n",
    "\n",
    "\n",
    "model.add(layers.Flatten())\n",
    "model.add(layers.Dropout(0.5))\n",
    "model.add(layers.Dense(64,activation='relu'))\n",
    "model.add(layers.Dropout(0.4))\n",
    "\n",
    "model.add(layers.Dense(2,activation='softmax'))\n",
    "#The Final layer with two outputs for two categories\n",
    "\n",
    "\n",
    "adam = tf.keras.optimizers.Adam(0.001)\n",
    "model.compile(loss='categorical_crossentropy',optimizer=adam,metrics=['accuracy'])"
   ]
  },
  {
   "cell_type": "code",
   "execution_count": 17,
   "metadata": {
    "execution": {
     "iopub.execute_input": "2020-08-10T11:29:06.622600Z",
     "iopub.status.busy": "2020-08-10T11:29:06.620864Z",
     "iopub.status.idle": "2020-08-10T11:29:06.635184Z",
     "shell.execute_reply": "2020-08-10T11:29:06.635959Z"
    },
    "id": "1en0D6ZfFUkq",
    "outputId": "ca871995-582f-42b1-8bf5-2e8e5f3b44b1",
    "papermill": {
     "duration": 0.033715,
     "end_time": "2020-08-10T11:29:06.636140",
     "exception": false,
     "start_time": "2020-08-10T11:29:06.602425",
     "status": "completed"
    },
    "tags": []
   },
   "outputs": [
    {
     "name": "stdout",
     "output_type": "stream",
     "text": [
      "Model: \"sequential\"\n",
      "_________________________________________________________________\n",
      "Layer (type)                 Output Shape              Param #   \n",
      "=================================================================\n",
      "conv2d (Conv2D)              (None, 48, 48, 32)        896       \n",
      "_________________________________________________________________\n",
      "max_pooling2d (MaxPooling2D) (None, 24, 24, 32)        0         \n",
      "_________________________________________________________________\n",
      "conv2d_1 (Conv2D)            (None, 22, 22, 64)        18496     \n",
      "_________________________________________________________________\n",
      "activation (Activation)      (None, 22, 22, 64)        0         \n",
      "_________________________________________________________________\n",
      "max_pooling2d_1 (MaxPooling2 (None, 11, 11, 64)        0         \n",
      "_________________________________________________________________\n",
      "conv2d_2 (Conv2D)            (None, 9, 9, 128)         73856     \n",
      "_________________________________________________________________\n",
      "activation_1 (Activation)    (None, 9, 9, 128)         0         \n",
      "_________________________________________________________________\n",
      "max_pooling2d_2 (MaxPooling2 (None, 4, 4, 128)         0         \n",
      "_________________________________________________________________\n",
      "conv2d_3 (Conv2D)            (None, 2, 2, 256)         295168    \n",
      "_________________________________________________________________\n",
      "activation_2 (Activation)    (None, 2, 2, 256)         0         \n",
      "_________________________________________________________________\n",
      "max_pooling2d_3 (MaxPooling2 (None, 1, 1, 256)         0         \n",
      "_________________________________________________________________\n",
      "flatten (Flatten)            (None, 256)               0         \n",
      "_________________________________________________________________\n",
      "dropout (Dropout)            (None, 256)               0         \n",
      "_________________________________________________________________\n",
      "dense (Dense)                (None, 64)                16448     \n",
      "_________________________________________________________________\n",
      "dropout_1 (Dropout)          (None, 64)                0         \n",
      "_________________________________________________________________\n",
      "dense_1 (Dense)              (None, 2)                 130       \n",
      "=================================================================\n",
      "Total params: 404,994\n",
      "Trainable params: 404,994\n",
      "Non-trainable params: 0\n",
      "_________________________________________________________________\n"
     ]
    }
   ],
   "source": [
    "model.summary()"
   ]
  },
  {
   "cell_type": "code",
   "execution_count": 18,
   "metadata": {
    "execution": {
     "iopub.execute_input": "2020-08-10T11:29:06.702148Z",
     "iopub.status.busy": "2020-08-10T11:29:06.701081Z",
     "iopub.status.idle": "2020-08-10T11:29:06.707515Z",
     "shell.execute_reply": "2020-08-10T11:29:06.708941Z"
    },
    "id": "aQmocbjFFUk1",
    "papermill": {
     "duration": 0.042468,
     "end_time": "2020-08-10T11:29:06.709123",
     "exception": false,
     "start_time": "2020-08-10T11:29:06.666655",
     "status": "completed"
    },
    "tags": []
   },
   "outputs": [],
   "source": [
    "# monitor = on which basis we have to select best model\n",
    "# verbose = 0 i.e no message, 1 i.e update message.\n",
    "model_saving_path = r'/tmp/checkpoint/cnn.model'\n",
    "save_model = tf.keras.callbacks.ModelCheckpoint(model_saving_path,\n",
    "                                                monitor='val_acc',\n",
    "                                                save_best_only=True,\n",
    "                                                mode='max',\n",
    "                                                verbose=1)"
   ]
  },
  {
   "cell_type": "code",
   "execution_count": 19,
   "metadata": {
    "execution": {
     "iopub.execute_input": "2020-08-10T11:29:06.768261Z",
     "iopub.status.busy": "2020-08-10T11:29:06.767395Z",
     "iopub.status.idle": "2020-08-10T11:29:19.694854Z",
     "shell.execute_reply": "2020-08-10T11:29:19.694226Z"
    },
    "id": "t0KwoSsVFUk6",
    "outputId": "84dfd12d-59ca-4315-f38d-b9b1c53db53a",
    "papermill": {
     "duration": 12.957364,
     "end_time": "2020-08-10T11:29:19.694971",
     "exception": false,
     "start_time": "2020-08-10T11:29:06.737607",
     "status": "completed"
    },
    "tags": []
   },
   "outputs": [
    {
     "name": "stdout",
     "output_type": "stream",
     "text": [
      "Epoch 1/50\n",
      "12/12 - 0s - loss: 0.6898 - accuracy: 0.5080 - val_loss: 0.6724 - val_accuracy: 0.4698\n",
      "Epoch 2/50\n",
      "12/12 - 0s - loss: 0.6103 - accuracy: 0.6551 - val_loss: 0.4686 - val_accuracy: 0.8470\n",
      "Epoch 3/50\n",
      "12/12 - 0s - loss: 0.5143 - accuracy: 0.7620 - val_loss: 0.3935 - val_accuracy: 0.8648\n",
      "Epoch 4/50\n",
      "12/12 - 0s - loss: 0.3592 - accuracy: 0.8592 - val_loss: 0.2552 - val_accuracy: 0.9039\n",
      "Epoch 5/50\n",
      "12/12 - 0s - loss: 0.2627 - accuracy: 0.9002 - val_loss: 0.1815 - val_accuracy: 0.9502\n",
      "Epoch 6/50\n",
      "12/12 - 0s - loss: 0.2135 - accuracy: 0.9225 - val_loss: 0.2269 - val_accuracy: 0.9075\n",
      "Epoch 7/50\n",
      "12/12 - 0s - loss: 0.2226 - accuracy: 0.9118 - val_loss: 0.1401 - val_accuracy: 0.9466\n",
      "Epoch 8/50\n",
      "12/12 - 0s - loss: 0.2033 - accuracy: 0.9305 - val_loss: 0.1620 - val_accuracy: 0.9502\n",
      "Epoch 9/50\n",
      "12/12 - 0s - loss: 0.1639 - accuracy: 0.9447 - val_loss: 0.1163 - val_accuracy: 0.9680\n",
      "Epoch 10/50\n",
      "12/12 - 0s - loss: 0.1408 - accuracy: 0.9501 - val_loss: 0.1203 - val_accuracy: 0.9644\n",
      "Epoch 11/50\n",
      "12/12 - 0s - loss: 0.1241 - accuracy: 0.9537 - val_loss: 0.1592 - val_accuracy: 0.9359\n",
      "Epoch 12/50\n",
      "12/12 - 0s - loss: 0.1214 - accuracy: 0.9599 - val_loss: 0.1231 - val_accuracy: 0.9537\n",
      "Epoch 13/50\n",
      "12/12 - 0s - loss: 0.1128 - accuracy: 0.9572 - val_loss: 0.1098 - val_accuracy: 0.9609\n",
      "Epoch 14/50\n",
      "12/12 - 0s - loss: 0.0922 - accuracy: 0.9670 - val_loss: 0.0849 - val_accuracy: 0.9715\n",
      "Epoch 15/50\n",
      "12/12 - 0s - loss: 0.0888 - accuracy: 0.9688 - val_loss: 0.1046 - val_accuracy: 0.9644\n",
      "Epoch 16/50\n",
      "12/12 - 0s - loss: 0.0675 - accuracy: 0.9813 - val_loss: 0.0821 - val_accuracy: 0.9715\n",
      "Epoch 17/50\n",
      "12/12 - 0s - loss: 0.0564 - accuracy: 0.9795 - val_loss: 0.0783 - val_accuracy: 0.9680\n",
      "Epoch 18/50\n",
      "12/12 - 0s - loss: 0.0515 - accuracy: 0.9848 - val_loss: 0.1887 - val_accuracy: 0.9537\n",
      "Epoch 19/50\n",
      "12/12 - 0s - loss: 0.0693 - accuracy: 0.9786 - val_loss: 0.0721 - val_accuracy: 0.9680\n",
      "Epoch 20/50\n",
      "12/12 - 0s - loss: 0.0566 - accuracy: 0.9822 - val_loss: 0.0729 - val_accuracy: 0.9680\n",
      "Epoch 21/50\n",
      "12/12 - 0s - loss: 0.0432 - accuracy: 0.9831 - val_loss: 0.1000 - val_accuracy: 0.9680\n",
      "Epoch 22/50\n",
      "12/12 - 0s - loss: 0.0663 - accuracy: 0.9795 - val_loss: 0.1560 - val_accuracy: 0.9502\n",
      "Epoch 23/50\n",
      "12/12 - 0s - loss: 0.0503 - accuracy: 0.9831 - val_loss: 0.0828 - val_accuracy: 0.9715\n",
      "Epoch 24/50\n",
      "12/12 - 0s - loss: 0.0388 - accuracy: 0.9866 - val_loss: 0.0792 - val_accuracy: 0.9715\n",
      "Epoch 25/50\n",
      "12/12 - 0s - loss: 0.0195 - accuracy: 0.9929 - val_loss: 0.1018 - val_accuracy: 0.9680\n",
      "Epoch 26/50\n",
      "12/12 - 0s - loss: 0.0239 - accuracy: 0.9902 - val_loss: 0.1871 - val_accuracy: 0.9573\n",
      "Epoch 27/50\n",
      "12/12 - 0s - loss: 0.0430 - accuracy: 0.9831 - val_loss: 0.0630 - val_accuracy: 0.9751\n",
      "Epoch 28/50\n",
      "12/12 - 0s - loss: 0.0288 - accuracy: 0.9902 - val_loss: 0.0793 - val_accuracy: 0.9715\n",
      "Epoch 29/50\n",
      "12/12 - 0s - loss: 0.0292 - accuracy: 0.9902 - val_loss: 0.0895 - val_accuracy: 0.9822\n",
      "Epoch 30/50\n",
      "12/12 - 0s - loss: 0.0346 - accuracy: 0.9866 - val_loss: 0.0842 - val_accuracy: 0.9751\n",
      "Epoch 31/50\n",
      "12/12 - 0s - loss: 0.0525 - accuracy: 0.9795 - val_loss: 0.0879 - val_accuracy: 0.9751\n",
      "Epoch 32/50\n",
      "12/12 - 0s - loss: 0.0265 - accuracy: 0.9893 - val_loss: 0.0789 - val_accuracy: 0.9715\n",
      "Epoch 33/50\n",
      "12/12 - 0s - loss: 0.0369 - accuracy: 0.9875 - val_loss: 0.0905 - val_accuracy: 0.9715\n",
      "Epoch 34/50\n",
      "12/12 - 0s - loss: 0.0242 - accuracy: 0.9911 - val_loss: 0.1113 - val_accuracy: 0.9644\n",
      "Epoch 35/50\n",
      "12/12 - 0s - loss: 0.0153 - accuracy: 0.9929 - val_loss: 0.0881 - val_accuracy: 0.9786\n",
      "Epoch 36/50\n",
      "12/12 - 0s - loss: 0.0147 - accuracy: 0.9938 - val_loss: 0.1141 - val_accuracy: 0.9786\n",
      "Epoch 37/50\n",
      "12/12 - 0s - loss: 0.0197 - accuracy: 0.9929 - val_loss: 0.1124 - val_accuracy: 0.9751\n",
      "Epoch 38/50\n",
      "12/12 - 0s - loss: 0.0111 - accuracy: 0.9929 - val_loss: 0.0965 - val_accuracy: 0.9786\n",
      "Epoch 39/50\n",
      "12/12 - 0s - loss: 0.0077 - accuracy: 0.9973 - val_loss: 0.1413 - val_accuracy: 0.9644\n",
      "Epoch 40/50\n",
      "12/12 - 0s - loss: 0.0110 - accuracy: 0.9973 - val_loss: 0.1137 - val_accuracy: 0.9786\n",
      "Epoch 41/50\n",
      "12/12 - 0s - loss: 0.0077 - accuracy: 0.9982 - val_loss: 0.1180 - val_accuracy: 0.9751\n",
      "Epoch 42/50\n",
      "12/12 - 0s - loss: 0.0067 - accuracy: 0.9982 - val_loss: 0.1439 - val_accuracy: 0.9751\n",
      "Epoch 43/50\n",
      "12/12 - 0s - loss: 0.0036 - accuracy: 1.0000 - val_loss: 0.1490 - val_accuracy: 0.9715\n",
      "Epoch 44/50\n",
      "12/12 - 0s - loss: 0.0034 - accuracy: 0.9991 - val_loss: 0.1341 - val_accuracy: 0.9786\n",
      "Epoch 45/50\n",
      "12/12 - 0s - loss: 0.0025 - accuracy: 0.9991 - val_loss: 0.1375 - val_accuracy: 0.9751\n",
      "Epoch 46/50\n",
      "12/12 - 0s - loss: 0.0027 - accuracy: 0.9991 - val_loss: 0.1359 - val_accuracy: 0.9786\n",
      "Epoch 47/50\n",
      "12/12 - 0s - loss: 0.0024 - accuracy: 1.0000 - val_loss: 0.1370 - val_accuracy: 0.9786\n",
      "Epoch 48/50\n",
      "12/12 - 0s - loss: 0.0016 - accuracy: 1.0000 - val_loss: 0.1515 - val_accuracy: 0.9751\n",
      "Epoch 49/50\n",
      "12/12 - 0s - loss: 0.0018 - accuracy: 1.0000 - val_loss: 0.1547 - val_accuracy: 0.9786\n",
      "Epoch 50/50\n",
      "12/12 - 0s - loss: 0.0040 - accuracy: 0.9982 - val_loss: 0.1364 - val_accuracy: 0.9751\n"
     ]
    }
   ],
   "source": [
    "history = model.fit(x=trainx,\n",
    "                    y=trainy,\n",
    "                    batch_size=100,\n",
    "                    epochs=50,\n",
    "                    callbacks=[save_model],\n",
    "                    validation_split=0.2,\n",
    "                    verbose=2,\n",
    "                    shuffle=True)"
   ]
  },
  {
   "cell_type": "code",
   "execution_count": 20,
   "metadata": {
    "execution": {
     "iopub.execute_input": "2020-08-10T11:29:19.750199Z",
     "iopub.status.busy": "2020-08-10T11:29:19.742860Z",
     "iopub.status.idle": "2020-08-10T11:29:19.925481Z",
     "shell.execute_reply": "2020-08-10T11:29:19.924984Z"
    },
    "id": "6OEt0-wAFUlC",
    "outputId": "6436dfd5-c518-475a-8707-280364a646ec",
    "papermill": {
     "duration": 0.209458,
     "end_time": "2020-08-10T11:29:19.925588",
     "exception": false,
     "start_time": "2020-08-10T11:29:19.716130",
     "status": "completed"
    },
    "tags": []
   },
   "outputs": [
    {
     "data": {
      "text/plain": [
       "<matplotlib.legend.Legend at 0x7f3e80728bd0>"
      ]
     },
     "execution_count": 20,
     "metadata": {},
     "output_type": "execute_result"
    },
    {
     "data": {
      "image/png": "[encoded data removed]",
      "text/plain": [
       "<Figure size 432x288 with 1 Axes>"
      ]
     },
     "metadata": {
      "needs_background": "light"
     },
     "output_type": "display_data"
    }
   ],
   "source": [
    "plt.plot(history.history['loss'])\n",
    "plt.plot(history.history['val_loss'])\n",
    "plt.legend(['loss','val_loss'])"
   ]
  },
  {
   "cell_type": "code",
   "execution_count": 21,
   "metadata": {
    "execution": {
     "iopub.execute_input": "2020-08-10T11:29:19.984419Z",
     "iopub.status.busy": "2020-08-10T11:29:19.981225Z",
     "iopub.status.idle": "2020-08-10T11:29:20.143026Z",
     "shell.execute_reply": "2020-08-10T11:29:20.143539Z"
    },
    "id": "B6r7OCfrFUlH",
    "outputId": "01e52d57-3cb3-4951-cf81-9b3b55c0d4db",
    "papermill": {
     "duration": 0.195102,
     "end_time": "2020-08-10T11:29:20.143679",
     "exception": false,
     "start_time": "2020-08-10T11:29:19.948577",
     "status": "completed"
    },
    "tags": []
   },
   "outputs": [
    {
     "data": {
      "text/plain": [
       "<matplotlib.legend.Legend at 0x7f3f1b4768d0>"
      ]
     },
     "execution_count": 21,
     "metadata": {},
     "output_type": "execute_result"
    },
    {
     "data": {
      "image/png": "[encoded data removed]",
      "text/plain": [
       "<Figure size 432x288 with 1 Axes>"
      ]
     },
     "metadata": {
      "needs_background": "light"
     },
     "output_type": "display_data"
    }
   ],
   "source": [
    "plt.plot(history.history['accuracy'])\n",
    "plt.plot(history.history['val_accuracy'])\n",
    "plt.legend(['accuracy', 'val_accuracy'])"
   ]
  },
  {
   "cell_type": "code",
   "execution_count": 22,
   "metadata": {
    "execution": {
     "iopub.execute_input": "2020-08-10T11:29:20.204568Z",
     "iopub.status.busy": "2020-08-10T11:29:20.203252Z",
     "iopub.status.idle": "2020-08-10T11:29:20.440327Z",
     "shell.execute_reply": "2020-08-10T11:29:20.440872Z"
    },
    "id": "o7M3tMl_FUlM",
    "outputId": "ee7419e5-abec-4b2d-a939-9bdea39f2b50",
    "papermill": {
     "duration": 0.269106,
     "end_time": "2020-08-10T11:29:20.441039",
     "exception": false,
     "start_time": "2020-08-10T11:29:20.171933",
     "status": "completed"
    },
    "tags": []
   },
   "outputs": [
    {
     "name": "stdout",
     "output_type": "stream",
     "text": [
      "8/8 [==============================] - 0s 5ms/step - loss: 0.2527 - accuracy: 0.9556\n"
     ]
    },
    {
     "data": {
      "text/plain": [
       "[0.25268372893333435, 0.9556451439857483]"
      ]
     },
     "execution_count": 22,
     "metadata": {},
     "output_type": "execute_result"
    }
   ],
   "source": [
    "model.evaluate(testx, testy)"
   ]
  },
  {
   "cell_type": "code",
   "execution_count": 23,
   "metadata": {
    "execution": {
     "iopub.execute_input": "2020-08-10T11:29:20.492199Z",
     "iopub.status.busy": "2020-08-10T11:29:20.491285Z",
     "iopub.status.idle": "2020-08-10T11:29:21.926022Z",
     "shell.execute_reply": "2020-08-10T11:29:21.925227Z"
    },
    "id": "0AIN0a58G0XG",
    "papermill": {
     "duration": 1.462724,
     "end_time": "2020-08-10T11:29:21.926188",
     "exception": false,
     "start_time": "2020-08-10T11:29:20.463464",
     "status": "completed"
    },
    "tags": []
   },
   "outputs": [],
   "source": [
    "model.save('./')"
   ]
  },
  {
   "cell_type": "code",
   "execution_count": null,
   "metadata": {
    "papermill": {
     "duration": 0.020508,
     "end_time": "2020-08-10T11:29:21.968614",
     "exception": false,
     "start_time": "2020-08-10T11:29:21.948106",
     "status": "completed"
    },
    "tags": []
   },
   "outputs": [],
   "source": []
  }
 ],
 "metadata": {
  "kernelspec": {
   "display_name": "Python 3",
   "language": "python",
   "name": "python3"
  },
  "language_info": {
   "codemirror_mode": {
    "name": "ipython",
    "version": 3
   },
   "file_extension": ".py",
   "mimetype": "text/x-python",
   "name": "python",
   "nbconvert_exporter": "python",
   "pygments_lexer": "ipython3",
   "version": "3.7.6"
  },
  "papermill": {
   "duration": 35.946863,
   "end_time": "2020-08-10T11:29:23.939925",
   "environment_variables": {},
   "exception": null,
   "input_path": "__notebook__.ipynb",
   "output_path": "__notebook__.ipynb",
   "parameters": {},
   "start_time": "2020-08-10T11:28:47.993062",
   "version": "2.1.0"
  }
 },
 "nbformat": 4,
 "nbformat_minor": 4
}
