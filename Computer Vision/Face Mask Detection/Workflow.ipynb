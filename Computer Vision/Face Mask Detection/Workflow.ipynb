{
 "cells": [
  {
   "cell_type": "markdown",
   "metadata": {
    "slideshow": {
     "slide_type": "slide"
    }
   },
   "source": [
    "<u><h1 style=\"text-align:center\"> Face Mask Detection Using Computer Vision</h1></u>"
   ]
  },
  {
   "cell_type": "markdown",
   "metadata": {
    "slideshow": {
     "slide_type": "slide"
    }
   },
   "source": [
    "# 1. Preprocessing\n",
    "1. Walk Through the folders.\n",
    "2. Read The image.\n",
    "3. Convert it in gray-scale.\n",
    "4. Resize the image in shape of 50x50.\n",
    "5. Save the image in a \"data\" array.\n",
    "6. Save the target in the \"target\" array.\n",
    "7. Save the Data array in a data.npy file.\n",
    "8. Save the target array in a target.npy file. "
   ]
  },
  {
   "cell_type": "markdown",
   "metadata": {
    "slideshow": {
     "slide_type": "slide"
    }
   },
   "source": [
    "# 2. Training\n",
    "1. Load the data.\n",
    "2. Reshape it to a required form.\n",
    "3. Split the data.\n",
    "4. Create  Tensorflow Model.\n",
    "5. Train the model.\n",
    "6. Save the model."
   ]
  },
  {
   "cell_type": "markdown",
   "metadata": {
    "slideshow": {
     "slide_type": "slide"
    }
   },
   "source": [
    "# 3. Classification\n",
    "1. Load the model\n",
    "2. Preprocess the image\n",
    "3. Perdict\n",
    "4. Label\n",
    "5. Show"
   ]
  }
 ],
 "metadata": {
  "kernelspec": {
   "display_name": "Python 3",
   "language": "python",
   "name": "python3"
  },
  "language_info": {
   "codemirror_mode": {
    "name": "ipython",
    "version": 3
   },
   "file_extension": ".py",
   "mimetype": "text/x-python",
   "name": "python",
   "nbconvert_exporter": "python",
   "pygments_lexer": "ipython3",
   "version": "3.7.6"
  }
 },
 "nbformat": 4,
 "nbformat_minor": 4
}
