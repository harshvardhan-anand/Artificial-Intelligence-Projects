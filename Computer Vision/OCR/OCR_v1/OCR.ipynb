{
 "cells": [
  {
   "cell_type": "markdown",
   "metadata": {},
   "source": [
    "# Concept Included\n",
    "**1. OCR of whole image.**\n",
    "\n",
    "**2. OCR of selected text.**\n",
    "\n",
    "**3. Summarization.**\n",
    "\n",
    "**4. Context tagging.**\n",
    "\n",
    "**5. Sentiment Analysis.**\n",
    "\n",
    "**6. Find related searches on internet.**\n",
    "\n",
    "**7. GUI**"
   ]
  },
  {
   "cell_type": "markdown",
   "metadata": {},
   "source": [
    "**missing things -**\n",
    "-  cvt to b/w for more better understang of image\n",
    "-  blurring\n",
    "- thresholding \n",
    "- and all other to identify the texts more efficiently"
   ]
  },
  {
   "cell_type": "code",
   "execution_count": 12,
   "metadata": {},
   "outputs": [],
   "source": [
    "import cv2\n",
    "import numpy as np\n",
    "import pytesseract as gocr\n",
    "import time\n",
    "from selectImage import image"
   ]
  },
  {
   "cell_type": "code",
   "execution_count": 13,
   "metadata": {},
   "outputs": [],
   "source": [
    "gocr.pytesseract.tesseract_cmd = r'C:\\Users\\Brothers\\AppData\\Local\\Tesseract-OCR\\tesseract.exe'"
   ]
  },
  {
   "cell_type": "code",
   "execution_count": 19,
   "metadata": {},
   "outputs": [
    {
     "name": "stdout",
     "output_type": "stream",
     "text": [
      "Enter the path of image: file.png\n"
     ]
    }
   ],
   "source": [
    "class ocr():\n",
    "    def __init__(self,\n",
    "                 path=input(\"Enter the path of image: \"),\n",
    "#                  path='morg.jpg',\n",
    "                 full_img=True,\n",
    "                 selected_img=False,\n",
    "                 saveText=True,\n",
    "                 printText=True,\n",
    "                 showRaw=False,\n",
    "                 saveRaw=False):\n",
    "        self.path = path\n",
    "        self.full_img = full_img\n",
    "        self.selected_img = selected_img\n",
    "        self.saveText = saveText\n",
    "        self.printText = printText\n",
    "        self.showRaw = showRaw\n",
    "        self.saveRaw = saveRaw\n",
    "\n",
    "        if (self.full_img == self.selected_img == False):\n",
    "            raise Exception(\"You can't get tea without tea leaves.\")\n",
    "        if (self.full_img == self.selected_img == True):\n",
    "            raise Exception(\"No!!! this is not a method to prepare a cup of tea.\")\n",
    "\n",
    "        self.getText()\n",
    "\n",
    "    def getText(self):\n",
    "        if self.full_img:\n",
    "            try:\n",
    "                img = cv2.imread(self.path)\n",
    "                img = cv2.cvtColor(img, cv2.COLOR_BGR2RGB)\n",
    "            except:\n",
    "                print('Could Not find image at specified location.')\n",
    "            else:\n",
    "                self._fullImage(img)\n",
    "        elif self.selected_img:\n",
    "            try:\n",
    "                img = image(self.path)\n",
    "                img = img.selectedImg\n",
    "            except:\n",
    "                print('Could Not find image at specified location.')\n",
    "            else:\n",
    "                self._fullImage(img)\n",
    "\n",
    "    def _fullImage(self, img):\n",
    "        text = gocr.image_to_string(img)\n",
    "\n",
    "        if (self.printText == True) and (self.showRaw == False):\n",
    "            self._textProcessing(text)\n",
    "            print(self._text)\n",
    "            self.saveRaw = 1\n",
    "        if (self.printText == True) and (self.showRaw == True):\n",
    "            print(text)\n",
    "        if self.saveText:\n",
    "            if not self.saveRaw:\n",
    "                self._textProcessing(text)  # remove tags\n",
    "            with open('recognised_text.txt', 'w') as file:\n",
    "                try:\n",
    "                    file.write(self._text)\n",
    "                except:\n",
    "                    file.write(text)\n",
    "                    \n",
    "                \n",
    "                \n",
    "    def _textProcessing(self, text):\n",
    "        # this is not a efficient method.\n",
    "        temp = text.split()\n",
    "        flag=0\n",
    "        sentence=[]\n",
    "        for i in temp:\n",
    "            word=''\n",
    "            for j in i:\n",
    "                if (j=='\\\\'):\n",
    "                    flag = 1\n",
    "                    continue\n",
    "                if flag:\n",
    "                    continue\n",
    "                    flag=0\n",
    "                word+=j\n",
    "            sentence.append(word)\n",
    "        self._text = ' '.join(sentence).strip()"
   ]
  },
  {
   "cell_type": "code",
   "execution_count": 20,
   "metadata": {},
   "outputs": [
    {
     "name": "stdout",
     "output_type": "stream",
     "text": [
      "This is SAMPLE TEXT Text is at different regions\n"
     ]
    }
   ],
   "source": [
    "o = ocr()"
   ]
  },
  {
   "cell_type": "code",
   "execution_count": null,
   "metadata": {},
   "outputs": [],
   "source": []
  }
 ],
 "metadata": {
  "kernelspec": {
   "display_name": "Python 3",
   "language": "python",
   "name": "python3"
  },
  "language_info": {
   "codemirror_mode": {
    "name": "ipython",
    "version": 3
   },
   "file_extension": ".py",
   "mimetype": "text/x-python",
   "name": "python",
   "nbconvert_exporter": "python",
   "pygments_lexer": "ipython3",
   "version": "3.7.6"
  }
 },
 "nbformat": 4,
 "nbformat_minor": 4
}
