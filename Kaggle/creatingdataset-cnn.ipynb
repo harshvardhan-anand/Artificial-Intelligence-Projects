{
 "cells": [
  {
   "cell_type": "code",
   "execution_count": 1,
   "metadata": {
    "_cell_guid": "b1076dfc-b9ad-4769-8c92-a6c4dae69d19",
    "_uuid": "8f2839f25d086af736a60e9eeb907d3b93b6e0e5"
   },
   "outputs": [
    {
     "name": "stdout",
     "output_type": "stream",
     "text": [
      "/kaggle/input/flower-color-images/FlowerColorImages.h5\n",
      "/kaggle/input/flower-color-images/flower_images/__MACOSX/flower_images/._0203.png\n",
      "/kaggle/input/flower-color-images/flower_images/__MACOSX/flower_images/._0014.png\n",
      "/kaggle/input/flower-color-images/flower_images/__MACOSX/flower_images/._0129.png\n",
      "/kaggle/input/flower-color-images/flower_images/__MACOSX/flower_images/._0194.png\n",
      "/kaggle/input/flower-color-images/flower_images/__MACOSX/flower_images/._0045.png\n",
      "/kaggle/input/flower-color-images/flower_images/__MACOSX/flower_images/._0071.png\n",
      "/kaggle/input/flower-color-images/flower_images/__MACOSX/flower_images/._0048.png\n",
      "/kaggle/input/flower-color-images/flower_images/__MACOSX/flower_images/._0070.png\n",
      "/kaggle/input/flower-color-images/flower_images/__MACOSX/flower_images/._0171.png\n",
      "/kaggle/input/flower-color-images/flower_images/__MACOSX/flower_images/._0051.png\n",
      "/kaggle/input/flower-color-images/flower_images/__MACOSX/flower_images/._0033.png\n",
      "/kaggle/input/flower-color-images/flower_images/__MACOSX/flower_images/._0183.png\n",
      "/kaggle/input/flower-color-images/flower_images/__MACOSX/flower_images/._0175.png\n",
      "/kaggle/input/flower-color-images/flower_images/__MACOSX/flower_images/._0161.png\n",
      "/kaggle/input/flower-color-images/flower_images/__MACOSX/flower_images/._0198.png\n",
      "/kaggle/input/flower-color-images/flower_images/__MACOSX/flower_images/._0158.png\n",
      "/kaggle/input/flower-color-images/flower_images/__MACOSX/flower_images/._0155.png\n",
      "/kaggle/input/flower-color-images/flower_images/__MACOSX/flower_images/._0034.png\n",
      "/kaggle/input/flower-color-images/flower_images/__MACOSX/flower_images/._0107.png\n",
      "/kaggle/input/flower-color-images/flower_images/__MACOSX/flower_images/._0126.png\n",
      "/kaggle/input/flower-color-images/flower_images/__MACOSX/flower_images/._0011.png\n",
      "/kaggle/input/flower-color-images/flower_images/__MACOSX/flower_images/._0096.png\n",
      "/kaggle/input/flower-color-images/flower_images/__MACOSX/flower_images/._0114.png\n",
      "/kaggle/input/flower-color-images/flower_images/__MACOSX/flower_images/._0007.png\n",
      "/kaggle/input/flower-color-images/flower_images/__MACOSX/flower_images/._0125.png\n",
      "/kaggle/input/flower-color-images/flower_images/__MACOSX/flower_images/._0139.png\n",
      "/kaggle/input/flower-color-images/flower_images/__MACOSX/flower_images/._0150.png\n",
      "/kaggle/input/flower-color-images/flower_images/__MACOSX/flower_images/._0187.png\n",
      "/kaggle/input/flower-color-images/flower_images/__MACOSX/flower_images/._0057.png\n",
      "/kaggle/input/flower-color-images/flower_images/__MACOSX/flower_images/._0142.png\n",
      "/kaggle/input/flower-color-images/flower_images/__MACOSX/flower_images/._0110.png\n",
      "/kaggle/input/flower-color-images/flower_images/__MACOSX/flower_images/._0032.png\n",
      "/kaggle/input/flower-color-images/flower_images/__MACOSX/flower_images/._0061.png\n",
      "/kaggle/input/flower-color-images/flower_images/__MACOSX/flower_images/._0106.png\n",
      "/kaggle/input/flower-color-images/flower_images/__MACOSX/flower_images/._0104.png\n",
      "/kaggle/input/flower-color-images/flower_images/__MACOSX/flower_images/._0062.png\n",
      "/kaggle/input/flower-color-images/flower_images/__MACOSX/flower_images/._0130.png\n",
      "/kaggle/input/flower-color-images/flower_images/__MACOSX/flower_images/._0093.png\n",
      "/kaggle/input/flower-color-images/flower_images/__MACOSX/flower_images/._0145.png\n",
      "/kaggle/input/flower-color-images/flower_images/__MACOSX/flower_images/._0195.png\n",
      "/kaggle/input/flower-color-images/flower_images/__MACOSX/flower_images/._0121.png\n",
      "/kaggle/input/flower-color-images/flower_images/__MACOSX/flower_images/._0052.png\n",
      "/kaggle/input/flower-color-images/flower_images/__MACOSX/flower_images/._0028.png\n",
      "/kaggle/input/flower-color-images/flower_images/__MACOSX/flower_images/._0166.png\n",
      "/kaggle/input/flower-color-images/flower_images/__MACOSX/flower_images/._0098.png\n",
      "/kaggle/input/flower-color-images/flower_images/__MACOSX/flower_images/._0180.png\n",
      "/kaggle/input/flower-color-images/flower_images/__MACOSX/flower_images/._0067.png\n",
      "/kaggle/input/flower-color-images/flower_images/__MACOSX/flower_images/._0116.png\n",
      "/kaggle/input/flower-color-images/flower_images/__MACOSX/flower_images/._0120.png\n",
      "/kaggle/input/flower-color-images/flower_images/__MACOSX/flower_images/._0182.png\n",
      "/kaggle/input/flower-color-images/flower_images/__MACOSX/flower_images/._0056.png\n",
      "/kaggle/input/flower-color-images/flower_images/__MACOSX/flower_images/._0076.png\n",
      "/kaggle/input/flower-color-images/flower_images/__MACOSX/flower_images/._0060.png\n",
      "/kaggle/input/flower-color-images/flower_images/__MACOSX/flower_images/._0019.png\n",
      "/kaggle/input/flower-color-images/flower_images/__MACOSX/flower_images/._0199.png\n",
      "/kaggle/input/flower-color-images/flower_images/__MACOSX/flower_images/._0188.png\n",
      "/kaggle/input/flower-color-images/flower_images/__MACOSX/flower_images/._0027.png\n",
      "/kaggle/input/flower-color-images/flower_images/__MACOSX/flower_images/._0160.png\n",
      "/kaggle/input/flower-color-images/flower_images/__MACOSX/flower_images/._0063.png\n",
      "/kaggle/input/flower-color-images/flower_images/__MACOSX/flower_images/._0118.png\n",
      "/kaggle/input/flower-color-images/flower_images/__MACOSX/flower_images/._0128.png\n",
      "/kaggle/input/flower-color-images/flower_images/__MACOSX/flower_images/._0144.png\n",
      "/kaggle/input/flower-color-images/flower_images/__MACOSX/flower_images/._0015.png\n",
      "/kaggle/input/flower-color-images/flower_images/__MACOSX/flower_images/._0079.png\n",
      "/kaggle/input/flower-color-images/flower_images/__MACOSX/flower_images/._0040.png\n",
      "/kaggle/input/flower-color-images/flower_images/__MACOSX/flower_images/._0206.png\n",
      "/kaggle/input/flower-color-images/flower_images/__MACOSX/flower_images/._0092.png\n",
      "/kaggle/input/flower-color-images/flower_images/__MACOSX/flower_images/._0191.png\n",
      "/kaggle/input/flower-color-images/flower_images/__MACOSX/flower_images/._0102.png\n",
      "/kaggle/input/flower-color-images/flower_images/__MACOSX/flower_images/._0086.png\n",
      "/kaggle/input/flower-color-images/flower_images/__MACOSX/flower_images/._0109.png\n",
      "/kaggle/input/flower-color-images/flower_images/__MACOSX/flower_images/._0174.png\n",
      "/kaggle/input/flower-color-images/flower_images/__MACOSX/flower_images/._0012.png\n",
      "/kaggle/input/flower-color-images/flower_images/__MACOSX/flower_images/._0148.png\n",
      "/kaggle/input/flower-color-images/flower_images/__MACOSX/flower_images/._0189.png\n",
      "/kaggle/input/flower-color-images/flower_images/__MACOSX/flower_images/._0006.png\n",
      "/kaggle/input/flower-color-images/flower_images/__MACOSX/flower_images/._0163.png\n",
      "/kaggle/input/flower-color-images/flower_images/__MACOSX/flower_images/._0064.png\n",
      "/kaggle/input/flower-color-images/flower_images/__MACOSX/flower_images/._0181.png\n",
      "/kaggle/input/flower-color-images/flower_images/__MACOSX/flower_images/._0046.png\n",
      "/kaggle/input/flower-color-images/flower_images/__MACOSX/flower_images/._0065.png\n",
      "/kaggle/input/flower-color-images/flower_images/__MACOSX/flower_images/._0009.png\n",
      "/kaggle/input/flower-color-images/flower_images/__MACOSX/flower_images/._0152.png\n",
      "/kaggle/input/flower-color-images/flower_images/__MACOSX/flower_images/._0068.png\n",
      "/kaggle/input/flower-color-images/flower_images/__MACOSX/flower_images/._0197.png\n",
      "/kaggle/input/flower-color-images/flower_images/__MACOSX/flower_images/._0179.png\n",
      "/kaggle/input/flower-color-images/flower_images/__MACOSX/flower_images/._0013.png\n",
      "/kaggle/input/flower-color-images/flower_images/__MACOSX/flower_images/._0207.png\n",
      "/kaggle/input/flower-color-images/flower_images/__MACOSX/flower_images/._0115.png\n",
      "/kaggle/input/flower-color-images/flower_images/__MACOSX/flower_images/._0156.png\n",
      "/kaggle/input/flower-color-images/flower_images/__MACOSX/flower_images/._0202.png\n",
      "/kaggle/input/flower-color-images/flower_images/__MACOSX/flower_images/._0087.png\n",
      "/kaggle/input/flower-color-images/flower_images/__MACOSX/flower_images/._0173.png\n",
      "/kaggle/input/flower-color-images/flower_images/__MACOSX/flower_images/._0069.png\n",
      "/kaggle/input/flower-color-images/flower_images/__MACOSX/flower_images/._0165.png\n",
      "/kaggle/input/flower-color-images/flower_images/__MACOSX/flower_images/._0135.png\n",
      "/kaggle/input/flower-color-images/flower_images/__MACOSX/flower_images/._0018.png\n",
      "/kaggle/input/flower-color-images/flower_images/__MACOSX/flower_images/._0090.png\n",
      "/kaggle/input/flower-color-images/flower_images/__MACOSX/flower_images/._0044.png\n",
      "/kaggle/input/flower-color-images/flower_images/__MACOSX/flower_images/._0030.png\n",
      "/kaggle/input/flower-color-images/flower_images/__MACOSX/flower_images/._0133.png\n",
      "/kaggle/input/flower-color-images/flower_images/__MACOSX/flower_images/._0157.png\n",
      "/kaggle/input/flower-color-images/flower_images/__MACOSX/flower_images/._0170.png\n",
      "/kaggle/input/flower-color-images/flower_images/__MACOSX/flower_images/._0095.png\n",
      "/kaggle/input/flower-color-images/flower_images/__MACOSX/flower_images/._0177.png\n",
      "/kaggle/input/flower-color-images/flower_images/__MACOSX/flower_images/._0004.png\n",
      "/kaggle/input/flower-color-images/flower_images/__MACOSX/flower_images/._0154.png\n",
      "/kaggle/input/flower-color-images/flower_images/__MACOSX/flower_images/._0043.png\n",
      "/kaggle/input/flower-color-images/flower_images/__MACOSX/flower_images/._0124.png\n",
      "/kaggle/input/flower-color-images/flower_images/__MACOSX/flower_images/._0017.png\n",
      "/kaggle/input/flower-color-images/flower_images/__MACOSX/flower_images/._0153.png\n",
      "/kaggle/input/flower-color-images/flower_images/__MACOSX/flower_images/._0049.png\n",
      "/kaggle/input/flower-color-images/flower_images/__MACOSX/flower_images/._0210.png\n",
      "/kaggle/input/flower-color-images/flower_images/__MACOSX/flower_images/._0053.png\n",
      "/kaggle/input/flower-color-images/flower_images/__MACOSX/flower_images/._0073.png\n",
      "/kaggle/input/flower-color-images/flower_images/__MACOSX/flower_images/._0146.png\n",
      "/kaggle/input/flower-color-images/flower_images/__MACOSX/flower_images/._0105.png\n",
      "/kaggle/input/flower-color-images/flower_images/__MACOSX/flower_images/._0108.png\n",
      "/kaggle/input/flower-color-images/flower_images/__MACOSX/flower_images/._0058.png\n",
      "/kaggle/input/flower-color-images/flower_images/__MACOSX/flower_images/._0047.png\n",
      "/kaggle/input/flower-color-images/flower_images/__MACOSX/flower_images/._0113.png\n",
      "/kaggle/input/flower-color-images/flower_images/__MACOSX/flower_images/._0089.png\n",
      "/kaggle/input/flower-color-images/flower_images/__MACOSX/flower_images/._0138.png\n",
      "/kaggle/input/flower-color-images/flower_images/__MACOSX/flower_images/._0088.png\n",
      "/kaggle/input/flower-color-images/flower_images/__MACOSX/flower_images/._0209.png\n",
      "/kaggle/input/flower-color-images/flower_images/__MACOSX/flower_images/._0001.png\n",
      "/kaggle/input/flower-color-images/flower_images/__MACOSX/flower_images/._0008.png\n",
      "/kaggle/input/flower-color-images/flower_images/__MACOSX/flower_images/._0162.png\n",
      "/kaggle/input/flower-color-images/flower_images/__MACOSX/flower_images/._0123.png\n",
      "/kaggle/input/flower-color-images/flower_images/__MACOSX/flower_images/._0074.png\n",
      "/kaggle/input/flower-color-images/flower_images/__MACOSX/flower_images/._0081.png\n",
      "/kaggle/input/flower-color-images/flower_images/__MACOSX/flower_images/._0143.png\n",
      "/kaggle/input/flower-color-images/flower_images/__MACOSX/flower_images/._0025.png\n",
      "/kaggle/input/flower-color-images/flower_images/__MACOSX/flower_images/._0185.png\n",
      "/kaggle/input/flower-color-images/flower_images/__MACOSX/flower_images/._0026.png\n",
      "/kaggle/input/flower-color-images/flower_images/__MACOSX/flower_images/._0168.png\n",
      "/kaggle/input/flower-color-images/flower_images/__MACOSX/flower_images/._0208.png\n",
      "/kaggle/input/flower-color-images/flower_images/__MACOSX/flower_images/._0035.png\n",
      "/kaggle/input/flower-color-images/flower_images/__MACOSX/flower_images/._0176.png\n",
      "/kaggle/input/flower-color-images/flower_images/__MACOSX/flower_images/._0021.png\n",
      "/kaggle/input/flower-color-images/flower_images/__MACOSX/flower_images/._0100.png\n",
      "/kaggle/input/flower-color-images/flower_images/__MACOSX/flower_images/._0159.png\n",
      "/kaggle/input/flower-color-images/flower_images/__MACOSX/flower_images/._0186.png\n",
      "/kaggle/input/flower-color-images/flower_images/__MACOSX/flower_images/._0072.png\n",
      "/kaggle/input/flower-color-images/flower_images/__MACOSX/flower_images/._0041.png\n",
      "/kaggle/input/flower-color-images/flower_images/__MACOSX/flower_images/._0036.png\n",
      "/kaggle/input/flower-color-images/flower_images/__MACOSX/flower_images/._0204.png\n",
      "/kaggle/input/flower-color-images/flower_images/__MACOSX/flower_images/._0091.png\n",
      "/kaggle/input/flower-color-images/flower_images/__MACOSX/flower_images/._0172.png\n",
      "/kaggle/input/flower-color-images/flower_images/__MACOSX/flower_images/._0164.png\n",
      "/kaggle/input/flower-color-images/flower_images/__MACOSX/flower_images/._0178.png\n",
      "/kaggle/input/flower-color-images/flower_images/__MACOSX/flower_images/._0101.png\n",
      "/kaggle/input/flower-color-images/flower_images/__MACOSX/flower_images/._0022.png\n",
      "/kaggle/input/flower-color-images/flower_images/__MACOSX/flower_images/._0078.png\n",
      "/kaggle/input/flower-color-images/flower_images/__MACOSX/flower_images/._0054.png\n",
      "/kaggle/input/flower-color-images/flower_images/__MACOSX/flower_images/._0042.png\n",
      "/kaggle/input/flower-color-images/flower_images/__MACOSX/flower_images/._0024.png\n",
      "/kaggle/input/flower-color-images/flower_images/__MACOSX/flower_images/._0020.png\n",
      "/kaggle/input/flower-color-images/flower_images/__MACOSX/flower_images/._.DS_Store\n",
      "/kaggle/input/flower-color-images/flower_images/__MACOSX/flower_images/._0136.png\n",
      "/kaggle/input/flower-color-images/flower_images/__MACOSX/flower_images/._0038.png\n",
      "/kaggle/input/flower-color-images/flower_images/__MACOSX/flower_images/._0066.png\n",
      "/kaggle/input/flower-color-images/flower_images/__MACOSX/flower_images/._0122.png\n",
      "/kaggle/input/flower-color-images/flower_images/__MACOSX/flower_images/._0002.png\n",
      "/kaggle/input/flower-color-images/flower_images/__MACOSX/flower_images/._0005.png\n",
      "/kaggle/input/flower-color-images/flower_images/__MACOSX/flower_images/._0023.png\n",
      "/kaggle/input/flower-color-images/flower_images/__MACOSX/flower_images/._0167.png\n",
      "/kaggle/input/flower-color-images/flower_images/__MACOSX/flower_images/._0119.png\n",
      "/kaggle/input/flower-color-images/flower_images/__MACOSX/flower_images/._0099.png\n",
      "/kaggle/input/flower-color-images/flower_images/__MACOSX/flower_images/._0039.png\n",
      "/kaggle/input/flower-color-images/flower_images/__MACOSX/flower_images/._0003.png\n",
      "/kaggle/input/flower-color-images/flower_images/__MACOSX/flower_images/._0127.png\n",
      "/kaggle/input/flower-color-images/flower_images/__MACOSX/flower_images/._0149.png\n",
      "/kaggle/input/flower-color-images/flower_images/__MACOSX/flower_images/._0080.png\n",
      "/kaggle/input/flower-color-images/flower_images/__MACOSX/flower_images/._0201.png\n",
      "/kaggle/input/flower-color-images/flower_images/__MACOSX/flower_images/._0184.png\n",
      "/kaggle/input/flower-color-images/flower_images/__MACOSX/flower_images/._0083.png\n",
      "/kaggle/input/flower-color-images/flower_images/__MACOSX/flower_images/._0077.png\n",
      "/kaggle/input/flower-color-images/flower_images/__MACOSX/flower_images/._0084.png\n",
      "/kaggle/input/flower-color-images/flower_images/__MACOSX/flower_images/._0085.png\n",
      "/kaggle/input/flower-color-images/flower_images/__MACOSX/flower_images/._0151.png\n",
      "/kaggle/input/flower-color-images/flower_images/__MACOSX/flower_images/._0075.png\n",
      "/kaggle/input/flower-color-images/flower_images/__MACOSX/flower_images/._0200.png\n",
      "/kaggle/input/flower-color-images/flower_images/__MACOSX/flower_images/._0192.png\n",
      "/kaggle/input/flower-color-images/flower_images/__MACOSX/flower_images/._0134.png\n",
      "/kaggle/input/flower-color-images/flower_images/__MACOSX/flower_images/._0094.png\n",
      "/kaggle/input/flower-color-images/flower_images/__MACOSX/flower_images/._0111.png\n",
      "/kaggle/input/flower-color-images/flower_images/__MACOSX/flower_images/._0117.png\n",
      "/kaggle/input/flower-color-images/flower_images/__MACOSX/flower_images/._0037.png\n",
      "/kaggle/input/flower-color-images/flower_images/__MACOSX/flower_images/._0010.png\n",
      "/kaggle/input/flower-color-images/flower_images/__MACOSX/flower_images/._0112.png\n",
      "/kaggle/input/flower-color-images/flower_images/__MACOSX/flower_images/._0016.png\n",
      "/kaggle/input/flower-color-images/flower_images/__MACOSX/flower_images/._0141.png\n",
      "/kaggle/input/flower-color-images/flower_images/__MACOSX/flower_images/._0082.png\n",
      "/kaggle/input/flower-color-images/flower_images/__MACOSX/flower_images/._0031.png\n",
      "/kaggle/input/flower-color-images/flower_images/__MACOSX/flower_images/._0097.png\n",
      "/kaggle/input/flower-color-images/flower_images/__MACOSX/flower_images/._0193.png\n",
      "/kaggle/input/flower-color-images/flower_images/__MACOSX/flower_images/._0196.png\n",
      "/kaggle/input/flower-color-images/flower_images/__MACOSX/flower_images/._0103.png\n",
      "/kaggle/input/flower-color-images/flower_images/__MACOSX/flower_images/._0029.png\n",
      "/kaggle/input/flower-color-images/flower_images/__MACOSX/flower_images/._0137.png\n",
      "/kaggle/input/flower-color-images/flower_images/__MACOSX/flower_images/._0140.png\n",
      "/kaggle/input/flower-color-images/flower_images/__MACOSX/flower_images/._0055.png\n",
      "/kaggle/input/flower-color-images/flower_images/__MACOSX/flower_images/._0169.png\n",
      "/kaggle/input/flower-color-images/flower_images/__MACOSX/flower_images/._0190.png\n",
      "/kaggle/input/flower-color-images/flower_images/__MACOSX/flower_images/._0059.png\n",
      "/kaggle/input/flower-color-images/flower_images/__MACOSX/flower_images/._0132.png\n",
      "/kaggle/input/flower-color-images/flower_images/__MACOSX/flower_images/._0205.png\n",
      "/kaggle/input/flower-color-images/flower_images/__MACOSX/flower_images/._0050.png\n",
      "/kaggle/input/flower-color-images/flower_images/__MACOSX/flower_images/._0147.png\n",
      "/kaggle/input/flower-color-images/flower_images/__MACOSX/flower_images/._0131.png\n",
      "/kaggle/input/flower-color-images/flower_images/flower_images/0093.png\n",
      "/kaggle/input/flower-color-images/flower_images/flower_images/0066.png\n",
      "/kaggle/input/flower-color-images/flower_images/flower_images/0097.png\n",
      "/kaggle/input/flower-color-images/flower_images/flower_images/0048.png\n",
      "/kaggle/input/flower-color-images/flower_images/flower_images/0089.png\n",
      "/kaggle/input/flower-color-images/flower_images/flower_images/0166.png\n",
      "/kaggle/input/flower-color-images/flower_images/flower_images/0043.png\n",
      "/kaggle/input/flower-color-images/flower_images/flower_images/0075.png\n",
      "/kaggle/input/flower-color-images/flower_images/flower_images/0070.png\n",
      "/kaggle/input/flower-color-images/flower_images/flower_images/0087.png\n",
      "/kaggle/input/flower-color-images/flower_images/flower_images/0044.png\n",
      "/kaggle/input/flower-color-images/flower_images/flower_images/0035.png\n",
      "/kaggle/input/flower-color-images/flower_images/flower_images/0200.png\n",
      "/kaggle/input/flower-color-images/flower_images/flower_images/0180.png\n",
      "/kaggle/input/flower-color-images/flower_images/flower_images/0096.png\n",
      "/kaggle/input/flower-color-images/flower_images/flower_images/0125.png\n",
      "/kaggle/input/flower-color-images/flower_images/flower_images/0103.png\n",
      "/kaggle/input/flower-color-images/flower_images/flower_images/0201.png\n",
      "/kaggle/input/flower-color-images/flower_images/flower_images/0047.png\n",
      "/kaggle/input/flower-color-images/flower_images/flower_images/0209.png\n",
      "/kaggle/input/flower-color-images/flower_images/flower_images/0160.png\n",
      "/kaggle/input/flower-color-images/flower_images/flower_images/0153.png\n",
      "/kaggle/input/flower-color-images/flower_images/flower_images/0154.png\n",
      "/kaggle/input/flower-color-images/flower_images/flower_images/0042.png\n",
      "/kaggle/input/flower-color-images/flower_images/flower_images/0122.png\n",
      "/kaggle/input/flower-color-images/flower_images/flower_images/flower_labels.csv\n",
      "/kaggle/input/flower-color-images/flower_images/flower_images/0167.png\n",
      "/kaggle/input/flower-color-images/flower_images/flower_images/0130.png\n",
      "/kaggle/input/flower-color-images/flower_images/flower_images/0205.png\n",
      "/kaggle/input/flower-color-images/flower_images/flower_images/0148.png\n",
      "/kaggle/input/flower-color-images/flower_images/flower_images/0083.png\n",
      "/kaggle/input/flower-color-images/flower_images/flower_images/0161.png\n",
      "/kaggle/input/flower-color-images/flower_images/flower_images/0008.png\n",
      "/kaggle/input/flower-color-images/flower_images/flower_images/0178.png\n",
      "/kaggle/input/flower-color-images/flower_images/flower_images/0145.png\n",
      "/kaggle/input/flower-color-images/flower_images/flower_images/0071.png\n",
      "/kaggle/input/flower-color-images/flower_images/flower_images/0173.png\n",
      "/kaggle/input/flower-color-images/flower_images/flower_images/0102.png\n",
      "/kaggle/input/flower-color-images/flower_images/flower_images/0057.png\n",
      "/kaggle/input/flower-color-images/flower_images/flower_images/0142.png\n",
      "/kaggle/input/flower-color-images/flower_images/flower_images/0068.png\n",
      "/kaggle/input/flower-color-images/flower_images/flower_images/0081.png\n",
      "/kaggle/input/flower-color-images/flower_images/flower_images/0061.png\n",
      "/kaggle/input/flower-color-images/flower_images/flower_images/0052.png\n",
      "/kaggle/input/flower-color-images/flower_images/flower_images/0060.png\n",
      "/kaggle/input/flower-color-images/flower_images/flower_images/0192.png\n",
      "/kaggle/input/flower-color-images/flower_images/flower_images/0055.png\n",
      "/kaggle/input/flower-color-images/flower_images/flower_images/0084.png\n",
      "/kaggle/input/flower-color-images/flower_images/flower_images/0056.png\n",
      "/kaggle/input/flower-color-images/flower_images/flower_images/0050.png\n",
      "/kaggle/input/flower-color-images/flower_images/flower_images/0162.png\n",
      "/kaggle/input/flower-color-images/flower_images/flower_images/0054.png\n",
      "/kaggle/input/flower-color-images/flower_images/flower_images/0110.png\n",
      "/kaggle/input/flower-color-images/flower_images/flower_images/0049.png\n",
      "/kaggle/input/flower-color-images/flower_images/flower_images/0159.png\n",
      "/kaggle/input/flower-color-images/flower_images/flower_images/0189.png\n",
      "/kaggle/input/flower-color-images/flower_images/flower_images/0022.png\n",
      "/kaggle/input/flower-color-images/flower_images/flower_images/0013.png\n",
      "/kaggle/input/flower-color-images/flower_images/flower_images/0067.png\n",
      "/kaggle/input/flower-color-images/flower_images/flower_images/0138.png\n",
      "/kaggle/input/flower-color-images/flower_images/flower_images/0119.png\n",
      "/kaggle/input/flower-color-images/flower_images/flower_images/0072.png\n",
      "/kaggle/input/flower-color-images/flower_images/flower_images/0090.png\n",
      "/kaggle/input/flower-color-images/flower_images/flower_images/0186.png\n",
      "/kaggle/input/flower-color-images/flower_images/flower_images/0041.png\n",
      "/kaggle/input/flower-color-images/flower_images/flower_images/0121.png\n",
      "/kaggle/input/flower-color-images/flower_images/flower_images/0185.png\n",
      "/kaggle/input/flower-color-images/flower_images/flower_images/0062.png\n",
      "/kaggle/input/flower-color-images/flower_images/flower_images/0207.png\n",
      "/kaggle/input/flower-color-images/flower_images/flower_images/0203.png\n",
      "/kaggle/input/flower-color-images/flower_images/flower_images/0053.png\n",
      "/kaggle/input/flower-color-images/flower_images/flower_images/0176.png\n",
      "/kaggle/input/flower-color-images/flower_images/flower_images/0133.png\n",
      "/kaggle/input/flower-color-images/flower_images/flower_images/0157.png\n",
      "/kaggle/input/flower-color-images/flower_images/flower_images/0024.png\n",
      "/kaggle/input/flower-color-images/flower_images/flower_images/0170.png\n",
      "/kaggle/input/flower-color-images/flower_images/flower_images/0091.png\n",
      "/kaggle/input/flower-color-images/flower_images/flower_images/0010.png\n",
      "/kaggle/input/flower-color-images/flower_images/flower_images/0193.png\n",
      "/kaggle/input/flower-color-images/flower_images/flower_images/0191.png\n",
      "/kaggle/input/flower-color-images/flower_images/flower_images/0100.png\n",
      "/kaggle/input/flower-color-images/flower_images/flower_images/0181.png\n",
      "/kaggle/input/flower-color-images/flower_images/flower_images/0039.png\n",
      "/kaggle/input/flower-color-images/flower_images/flower_images/0152.png\n",
      "/kaggle/input/flower-color-images/flower_images/flower_images/0156.png\n",
      "/kaggle/input/flower-color-images/flower_images/flower_images/0031.png\n",
      "/kaggle/input/flower-color-images/flower_images/flower_images/0135.png\n",
      "/kaggle/input/flower-color-images/flower_images/flower_images/0112.png\n",
      "/kaggle/input/flower-color-images/flower_images/flower_images/0128.png\n",
      "/kaggle/input/flower-color-images/flower_images/flower_images/0059.png\n",
      "/kaggle/input/flower-color-images/flower_images/flower_images/0104.png\n",
      "/kaggle/input/flower-color-images/flower_images/flower_images/0179.png\n",
      "/kaggle/input/flower-color-images/flower_images/flower_images/0002.png\n",
      "/kaggle/input/flower-color-images/flower_images/flower_images/0111.png\n",
      "/kaggle/input/flower-color-images/flower_images/flower_images/0045.png\n",
      "/kaggle/input/flower-color-images/flower_images/flower_images/0113.png\n",
      "/kaggle/input/flower-color-images/flower_images/flower_images/0151.png\n",
      "/kaggle/input/flower-color-images/flower_images/flower_images/0109.png\n",
      "/kaggle/input/flower-color-images/flower_images/flower_images/0018.png\n",
      "/kaggle/input/flower-color-images/flower_images/flower_images/0132.png\n",
      "/kaggle/input/flower-color-images/flower_images/flower_images/0004.png\n",
      "/kaggle/input/flower-color-images/flower_images/flower_images/0114.png\n",
      "/kaggle/input/flower-color-images/flower_images/flower_images/0174.png\n",
      "/kaggle/input/flower-color-images/flower_images/flower_images/0079.png\n",
      "/kaggle/input/flower-color-images/flower_images/flower_images/0168.png\n",
      "/kaggle/input/flower-color-images/flower_images/flower_images/0146.png\n",
      "/kaggle/input/flower-color-images/flower_images/flower_images/0199.png\n",
      "/kaggle/input/flower-color-images/flower_images/flower_images/0175.png\n",
      "/kaggle/input/flower-color-images/flower_images/flower_images/0158.png\n",
      "/kaggle/input/flower-color-images/flower_images/flower_images/0077.png\n",
      "/kaggle/input/flower-color-images/flower_images/flower_images/0021.png\n",
      "/kaggle/input/flower-color-images/flower_images/flower_images/0177.png\n",
      "/kaggle/input/flower-color-images/flower_images/flower_images/0092.png\n",
      "/kaggle/input/flower-color-images/flower_images/flower_images/0115.png\n",
      "/kaggle/input/flower-color-images/flower_images/flower_images/0116.png\n",
      "/kaggle/input/flower-color-images/flower_images/flower_images/0074.png\n",
      "/kaggle/input/flower-color-images/flower_images/flower_images/0005.png\n",
      "/kaggle/input/flower-color-images/flower_images/flower_images/0143.png\n",
      "/kaggle/input/flower-color-images/flower_images/flower_images/0011.png\n",
      "/kaggle/input/flower-color-images/flower_images/flower_images/0106.png\n",
      "/kaggle/input/flower-color-images/flower_images/flower_images/0080.png\n",
      "/kaggle/input/flower-color-images/flower_images/flower_images/0016.png\n",
      "/kaggle/input/flower-color-images/flower_images/flower_images/0164.png\n",
      "/kaggle/input/flower-color-images/flower_images/flower_images/0108.png\n",
      "/kaggle/input/flower-color-images/flower_images/flower_images/0120.png\n",
      "/kaggle/input/flower-color-images/flower_images/flower_images/0051.png\n",
      "/kaggle/input/flower-color-images/flower_images/flower_images/0163.png\n",
      "/kaggle/input/flower-color-images/flower_images/flower_images/.DS_Store\n",
      "/kaggle/input/flower-color-images/flower_images/flower_images/0058.png\n",
      "/kaggle/input/flower-color-images/flower_images/flower_images/0190.png\n",
      "/kaggle/input/flower-color-images/flower_images/flower_images/0118.png\n",
      "/kaggle/input/flower-color-images/flower_images/flower_images/0140.png\n",
      "/kaggle/input/flower-color-images/flower_images/flower_images/0105.png\n",
      "/kaggle/input/flower-color-images/flower_images/flower_images/0032.png\n",
      "/kaggle/input/flower-color-images/flower_images/flower_images/0026.png\n",
      "/kaggle/input/flower-color-images/flower_images/flower_images/0046.png\n",
      "/kaggle/input/flower-color-images/flower_images/flower_images/0210.png\n",
      "/kaggle/input/flower-color-images/flower_images/flower_images/0003.png\n",
      "/kaggle/input/flower-color-images/flower_images/flower_images/0127.png\n",
      "/kaggle/input/flower-color-images/flower_images/flower_images/0194.png\n",
      "/kaggle/input/flower-color-images/flower_images/flower_images/0137.png\n",
      "/kaggle/input/flower-color-images/flower_images/flower_images/0076.png\n",
      "/kaggle/input/flower-color-images/flower_images/flower_images/0117.png\n",
      "/kaggle/input/flower-color-images/flower_images/flower_images/0023.png\n",
      "/kaggle/input/flower-color-images/flower_images/flower_images/0098.png\n",
      "/kaggle/input/flower-color-images/flower_images/flower_images/0208.png\n",
      "/kaggle/input/flower-color-images/flower_images/flower_images/0007.png\n",
      "/kaggle/input/flower-color-images/flower_images/flower_images/0015.png\n",
      "/kaggle/input/flower-color-images/flower_images/flower_images/0017.png\n",
      "/kaggle/input/flower-color-images/flower_images/flower_images/0150.png\n",
      "/kaggle/input/flower-color-images/flower_images/flower_images/0124.png\n",
      "/kaggle/input/flower-color-images/flower_images/flower_images/0202.png\n",
      "/kaggle/input/flower-color-images/flower_images/flower_images/0020.png\n",
      "/kaggle/input/flower-color-images/flower_images/flower_images/0094.png\n",
      "/kaggle/input/flower-color-images/flower_images/flower_images/0171.png\n",
      "/kaggle/input/flower-color-images/flower_images/flower_images/0136.png\n",
      "/kaggle/input/flower-color-images/flower_images/flower_images/0028.png\n",
      "/kaggle/input/flower-color-images/flower_images/flower_images/0206.png\n",
      "/kaggle/input/flower-color-images/flower_images/flower_images/0038.png\n",
      "/kaggle/input/flower-color-images/flower_images/flower_images/0030.png\n",
      "/kaggle/input/flower-color-images/flower_images/flower_images/0073.png\n",
      "/kaggle/input/flower-color-images/flower_images/flower_images/0123.png\n",
      "/kaggle/input/flower-color-images/flower_images/flower_images/0129.png\n",
      "/kaggle/input/flower-color-images/flower_images/flower_images/0155.png\n",
      "/kaggle/input/flower-color-images/flower_images/flower_images/0027.png\n",
      "/kaggle/input/flower-color-images/flower_images/flower_images/0040.png\n",
      "/kaggle/input/flower-color-images/flower_images/flower_images/0134.png\n",
      "/kaggle/input/flower-color-images/flower_images/flower_images/0086.png\n",
      "/kaggle/input/flower-color-images/flower_images/flower_images/0198.png\n",
      "/kaggle/input/flower-color-images/flower_images/flower_images/0019.png\n",
      "/kaggle/input/flower-color-images/flower_images/flower_images/0172.png\n",
      "/kaggle/input/flower-color-images/flower_images/flower_images/0101.png\n",
      "/kaggle/input/flower-color-images/flower_images/flower_images/0195.png\n",
      "/kaggle/input/flower-color-images/flower_images/flower_images/0139.png\n",
      "/kaggle/input/flower-color-images/flower_images/flower_images/0131.png\n",
      "/kaggle/input/flower-color-images/flower_images/flower_images/0182.png\n",
      "/kaggle/input/flower-color-images/flower_images/flower_images/0147.png\n",
      "/kaggle/input/flower-color-images/flower_images/flower_images/0149.png\n",
      "/kaggle/input/flower-color-images/flower_images/flower_images/0064.png\n",
      "/kaggle/input/flower-color-images/flower_images/flower_images/0197.png\n",
      "/kaggle/input/flower-color-images/flower_images/flower_images/0169.png\n",
      "/kaggle/input/flower-color-images/flower_images/flower_images/0078.png\n",
      "/kaggle/input/flower-color-images/flower_images/flower_images/0025.png\n",
      "/kaggle/input/flower-color-images/flower_images/flower_images/0126.png\n",
      "/kaggle/input/flower-color-images/flower_images/flower_images/0033.png\n",
      "/kaggle/input/flower-color-images/flower_images/flower_images/0088.png\n",
      "/kaggle/input/flower-color-images/flower_images/flower_images/0187.png\n",
      "/kaggle/input/flower-color-images/flower_images/flower_images/0069.png\n",
      "/kaggle/input/flower-color-images/flower_images/flower_images/0085.png\n",
      "/kaggle/input/flower-color-images/flower_images/flower_images/0144.png\n",
      "/kaggle/input/flower-color-images/flower_images/flower_images/0196.png\n",
      "/kaggle/input/flower-color-images/flower_images/flower_images/0141.png\n",
      "/kaggle/input/flower-color-images/flower_images/flower_images/0099.png\n",
      "/kaggle/input/flower-color-images/flower_images/flower_images/0183.png\n",
      "/kaggle/input/flower-color-images/flower_images/flower_images/0006.png\n",
      "/kaggle/input/flower-color-images/flower_images/flower_images/0204.png\n",
      "/kaggle/input/flower-color-images/flower_images/flower_images/0036.png\n",
      "/kaggle/input/flower-color-images/flower_images/flower_images/0065.png\n",
      "/kaggle/input/flower-color-images/flower_images/flower_images/0165.png\n",
      "/kaggle/input/flower-color-images/flower_images/flower_images/0037.png\n",
      "/kaggle/input/flower-color-images/flower_images/flower_images/0082.png\n",
      "/kaggle/input/flower-color-images/flower_images/flower_images/0034.png\n",
      "/kaggle/input/flower-color-images/flower_images/flower_images/0095.png\n",
      "/kaggle/input/flower-color-images/flower_images/flower_images/0107.png\n",
      "/kaggle/input/flower-color-images/flower_images/flower_images/0029.png\n",
      "/kaggle/input/flower-color-images/flower_images/flower_images/0014.png\n",
      "/kaggle/input/flower-color-images/flower_images/flower_images/0012.png\n",
      "/kaggle/input/flower-color-images/flower_images/flower_images/0184.png\n",
      "/kaggle/input/flower-color-images/flower_images/flower_images/0188.png\n",
      "/kaggle/input/flower-color-images/flower_images/flower_images/0001.png\n",
      "/kaggle/input/flower-color-images/flower_images/flower_images/0063.png\n",
      "/kaggle/input/flower-color-images/flower_images/flower_images/0009.png\n"
     ]
    }
   ],
   "source": [
    "# This Python 3 environment comes with many helpful analytics libraries installed\n",
    "# It is defined by the kaggle/python docker image: https://github.com/kaggle/docker-python\n",
    "# For example, here's several helpful packages to load in \n",
    "\n",
    "import numpy as np # linear algebra\n",
    "import pandas as pd # data processing, CSV file I/O (e.g. pd.read_csv)\n",
    "\n",
    "# Input data files are available in the \"../input/\" directory.\n",
    "# For example, running this (by clicking run or pressing Shift+Enter) will list all files under the input directory\n",
    "\n",
    "import os\n",
    "for dirname, _, filenames in os.walk('/kaggle/input'):\n",
    "    for filename in filenames:\n",
    "        print(os.path.join(dirname, filename))\n",
    "\n",
    "# Any results you write to the current directory are saved as output."
   ]
  },
  {
   "cell_type": "code",
   "execution_count": 2,
   "metadata": {},
   "outputs": [],
   "source": [
    "classes = pd.read_csv('/kaggle/input/flower-color-images/flower_images/flower_images/flower_labels.csv')"
   ]
  },
  {
   "cell_type": "code",
   "execution_count": 3,
   "metadata": {},
   "outputs": [
    {
     "data": {
      "text/html": [
       "<div>\n",
       "<style scoped>\n",
       "    .dataframe tbody tr th:only-of-type {\n",
       "        vertical-align: middle;\n",
       "    }\n",
       "\n",
       "    .dataframe tbody tr th {\n",
       "        vertical-align: top;\n",
       "    }\n",
       "\n",
       "    .dataframe thead th {\n",
       "        text-align: right;\n",
       "    }\n",
       "</style>\n",
       "<table border=\"1\" class=\"dataframe\">\n",
       "  <thead>\n",
       "    <tr style=\"text-align: right;\">\n",
       "      <th></th>\n",
       "      <th>file</th>\n",
       "      <th>label</th>\n",
       "    </tr>\n",
       "  </thead>\n",
       "  <tbody>\n",
       "    <tr>\n",
       "      <th>0</th>\n",
       "      <td>0001.png</td>\n",
       "      <td>0</td>\n",
       "    </tr>\n",
       "    <tr>\n",
       "      <th>1</th>\n",
       "      <td>0002.png</td>\n",
       "      <td>0</td>\n",
       "    </tr>\n",
       "    <tr>\n",
       "      <th>2</th>\n",
       "      <td>0003.png</td>\n",
       "      <td>2</td>\n",
       "    </tr>\n",
       "    <tr>\n",
       "      <th>3</th>\n",
       "      <td>0004.png</td>\n",
       "      <td>0</td>\n",
       "    </tr>\n",
       "    <tr>\n",
       "      <th>4</th>\n",
       "      <td>0005.png</td>\n",
       "      <td>0</td>\n",
       "    </tr>\n",
       "  </tbody>\n",
       "</table>\n",
       "</div>"
      ],
      "text/plain": [
       "       file  label\n",
       "0  0001.png      0\n",
       "1  0002.png      0\n",
       "2  0003.png      2\n",
       "3  0004.png      0\n",
       "4  0005.png      0"
      ]
     },
     "execution_count": 3,
     "metadata": {},
     "output_type": "execute_result"
    }
   ],
   "source": [
    "classes.head()"
   ]
  },
  {
   "cell_type": "code",
   "execution_count": 4,
   "metadata": {},
   "outputs": [],
   "source": [
    "import matplotlib.pyplot as plt"
   ]
  },
  {
   "cell_type": "code",
   "execution_count": 5,
   "metadata": {},
   "outputs": [
    {
     "data": {
      "text/plain": [
       "<matplotlib.image.AxesImage at 0x7f4bbf8b29b0>"
      ]
     },
     "execution_count": 5,
     "metadata": {},
     "output_type": "execute_result"
    },
    {
     "data": {
      "image/png": "[encoded data removed]",
      "text/plain": [
       "<Figure size 432x288 with 1 Axes>"
      ]
     },
     "metadata": {
      "needs_background": "light"
     },
     "output_type": "display_data"
    }
   ],
   "source": [
    "plt.imshow(plt.imread('/kaggle/input/flower-color-images/flower_images/flower_images/0112.png'), cmap='gray')"
   ]
  },
  {
   "cell_type": "code",
   "execution_count": 6,
   "metadata": {},
   "outputs": [],
   "source": [
    "import os"
   ]
  },
  {
   "cell_type": "code",
   "execution_count": 7,
   "metadata": {},
   "outputs": [
    {
     "data": {
      "text/plain": [
       "212"
      ]
     },
     "execution_count": 7,
     "metadata": {},
     "output_type": "execute_result"
    }
   ],
   "source": [
    "# This is the path where all files are saved\n",
    "len(os.listdir('/kaggle/input/flower-color-images/flower_images/flower_images/'))"
   ]
  },
  {
   "cell_type": "code",
   "execution_count": 8,
   "metadata": {},
   "outputs": [],
   "source": [
    "import os\n",
    "import shutil"
   ]
  },
  {
   "cell_type": "code",
   "execution_count": 9,
   "metadata": {},
   "outputs": [
    {
     "data": {
      "text/plain": [
       "'/kaggle/working'"
      ]
     },
     "execution_count": 9,
     "metadata": {},
     "output_type": "execute_result"
    }
   ],
   "source": [
    "pwd"
   ]
  },
  {
   "cell_type": "code",
   "execution_count": 10,
   "metadata": {},
   "outputs": [],
   "source": [
    "os.makedirs('/kaggle/working/all_flowers/')\n",
    "for i in os.listdir('/kaggle/input/flower-color-images/flower_images/flower_images/'):\n",
    "    try:\n",
    "        a = plt.imread('/kaggle/input/flower-color-images/flower_images/flower_images/'+i)\n",
    "    except:\n",
    "        pass\n",
    "    else:\n",
    "        plt.imsave('/kaggle/working/all_flowers/'+i, a)"
   ]
  },
  {
   "cell_type": "markdown",
   "metadata": {},
   "source": [
    "!rm -rf /kaggle/working/all_flowers"
   ]
  },
  {
   "cell_type": "code",
   "execution_count": 11,
   "metadata": {},
   "outputs": [],
   "source": [
    "for photo, label in list(zip(classes.file, classes.label)):\n",
    "    try:\n",
    "        os.listdir('/kaggle/working/flowers/'+str(label))\n",
    "    except:\n",
    "        os.makedirs('/kaggle/working/flowers/'+str(label))\n",
    "    finally:\n",
    "        shutil.copy('/kaggle/working/all_flowers/'+str(photo), \n",
    "                    '/kaggle/working/flowers/'+str(label))\n"
   ]
  },
  {
   "cell_type": "code",
   "execution_count": 12,
   "metadata": {},
   "outputs": [],
   "source": [
    "import pathlib as pb"
   ]
  },
  {
   "cell_type": "code",
   "execution_count": 13,
   "metadata": {},
   "outputs": [],
   "source": [
    "data_dir = pb.Path('/kaggle/working/flowers/')"
   ]
  },
  {
   "cell_type": "code",
   "execution_count": 14,
   "metadata": {},
   "outputs": [
    {
     "data": {
      "text/plain": [
       "210"
      ]
     },
     "execution_count": 14,
     "metadata": {},
     "output_type": "execute_result"
    }
   ],
   "source": [
    "# image count\n",
    "len(list(data_dir.glob('*/*.png')))"
   ]
  },
  {
   "cell_type": "code",
   "execution_count": 15,
   "metadata": {},
   "outputs": [],
   "source": [
    "class_names = classes.label.unique()\n",
    "class_names = class_names.tolist()"
   ]
  },
  {
   "cell_type": "code",
   "execution_count": 16,
   "metadata": {},
   "outputs": [
    {
     "name": "stderr",
     "output_type": "stream",
     "text": [
      "Using TensorFlow backend.\n"
     ]
    }
   ],
   "source": [
    "import tensorflow as tf\n",
    "from tensorflow import keras\n",
    "from keras import Sequential, layers"
   ]
  },
  {
   "cell_type": "code",
   "execution_count": 17,
   "metadata": {},
   "outputs": [],
   "source": [
    "image_gen = tf.keras.preprocessing.image.ImageDataGenerator(rescale=1./255)"
   ]
  },
  {
   "cell_type": "code",
   "execution_count": 18,
   "metadata": {},
   "outputs": [
    {
     "name": "stdout",
     "output_type": "stream",
     "text": [
      "Found 210 images belonging to 10 classes.\n"
     ]
    }
   ],
   "source": [
    "image_data_gen = image_gen.flow_from_directory(data_dir, batch_size=1, shuffle=True,)"
   ]
  },
  {
   "cell_type": "code",
   "execution_count": 19,
   "metadata": {},
   "outputs": [],
   "source": [
    "def set_label(x):\n",
    "    if x==0:\n",
    "        ret=('phlox')\n",
    "    elif x==1:\n",
    "        ret=('rose')\n",
    "    elif x==2:\n",
    "        ret=('calendula')\n",
    "    elif x==3:\n",
    "        ret=('iris')\n",
    "    elif x==4:\n",
    "        ret=('leucanthemum maximum')\n",
    "    elif x==5:\n",
    "        ret=('bellflower')  \n",
    "    elif x==6:\n",
    "        ret=('viola')\n",
    "    elif x==7:\n",
    "        ret=('rudbeckia laciniata (Goldquelle)')\n",
    "    elif x==8:\n",
    "        ret=('peony')\n",
    "    elif x==9:\n",
    "        ret=('aquilegia')\n",
    "        \n",
    "    return ret"
   ]
  },
  {
   "cell_type": "code",
   "execution_count": 20,
   "metadata": {},
   "outputs": [
    {
     "name": "stdout",
     "output_type": "stream",
     "text": [
      "(256, 256, 3)\n"
     ]
    },
    {
     "data": {
      "image/png": "[encoded data removed]",
      "text/plain": [
       "<Figure size 432x288 with 1 Axes>"
      ]
     },
     "metadata": {
      "needs_background": "light"
     },
     "output_type": "display_data"
    }
   ],
   "source": [
    "def show_image(img, label):\n",
    "    plt.imshow(img, cmap='gray')\n",
    "    label = set_label(np.argmax(label))\n",
    "    plt.title((label))\n",
    "    print(img.shape)\n",
    "    \n",
    "img, label = next(image_data_gen)\n",
    "show_image(img[0], label)"
   ]
  },
  {
   "cell_type": "code",
   "execution_count": 21,
   "metadata": {},
   "outputs": [
    {
     "name": "stdout",
     "output_type": "stream",
     "text": [
      "Found 210 images belonging to 10 classes.\n"
     ]
    }
   ],
   "source": [
    "image_data_gen = image_gen.flow_from_directory(data_dir, batch_size=32, shuffle=True,)"
   ]
  },
  {
   "cell_type": "code",
   "execution_count": 22,
   "metadata": {},
   "outputs": [
    {
     "ename": "NameError",
     "evalue": "name 'model' is not defined",
     "output_type": "error",
     "traceback": [
      "\u001b[0;31m---------------------------------------------------------------------------\u001b[0m",
      "\u001b[0;31mNameError\u001b[0m                                 Traceback (most recent call last)",
      "\u001b[0;32m<ipython-input-22-a07c493276a1>\u001b[0m in \u001b[0;36m<module>\u001b[0;34m\u001b[0m\n\u001b[0;32m----> 1\u001b[0;31m \u001b[0;32mdel\u001b[0m \u001b[0mmodel\u001b[0m\u001b[0;34m\u001b[0m\u001b[0m\n\u001b[0m\u001b[1;32m      2\u001b[0m \u001b[0mmodel\u001b[0m \u001b[0;34m=\u001b[0m \u001b[0mSequential\u001b[0m\u001b[0;34m(\u001b[0m\u001b[0;34m)\u001b[0m\u001b[0;34m\u001b[0m\u001b[0m\n\u001b[1;32m      3\u001b[0m \u001b[0;34m\u001b[0m\u001b[0m\n\u001b[1;32m      4\u001b[0m \u001b[0mmodel\u001b[0m\u001b[0;34m.\u001b[0m\u001b[0madd\u001b[0m\u001b[0;34m(\u001b[0m\u001b[0mlayers\u001b[0m\u001b[0;34m.\u001b[0m\u001b[0mConv2D\u001b[0m\u001b[0;34m(\u001b[0m\u001b[0;36m32\u001b[0m\u001b[0;34m,\u001b[0m \u001b[0;34m(\u001b[0m\u001b[0;36m3\u001b[0m\u001b[0;34m,\u001b[0m\u001b[0;36m3\u001b[0m\u001b[0;34m)\u001b[0m\u001b[0;34m,\u001b[0m \u001b[0mactivation\u001b[0m\u001b[0;34m=\u001b[0m\u001b[0;34m'relu'\u001b[0m\u001b[0;34m,\u001b[0m \u001b[0minput_shape\u001b[0m\u001b[0;34m=\u001b[0m\u001b[0;34m(\u001b[0m\u001b[0;36m256\u001b[0m\u001b[0;34m,\u001b[0m \u001b[0;36m256\u001b[0m\u001b[0;34m,\u001b[0m \u001b[0;36m3\u001b[0m\u001b[0;34m)\u001b[0m\u001b[0;34m)\u001b[0m\u001b[0;34m)\u001b[0m\u001b[0;34m\u001b[0m\u001b[0m\n\u001b[1;32m      5\u001b[0m \u001b[0mmodel\u001b[0m\u001b[0;34m.\u001b[0m\u001b[0madd\u001b[0m\u001b[0;34m(\u001b[0m\u001b[0mlayers\u001b[0m\u001b[0;34m.\u001b[0m\u001b[0mMaxPool2D\u001b[0m\u001b[0;34m(\u001b[0m\u001b[0;36m2\u001b[0m\u001b[0;34m,\u001b[0m\u001b[0;36m2\u001b[0m\u001b[0;34m)\u001b[0m\u001b[0;34m)\u001b[0m\u001b[0;34m\u001b[0m\u001b[0m\n",
      "\u001b[0;31mNameError\u001b[0m: name 'model' is not defined"
     ]
    }
   ],
   "source": [
    "del model\n",
    "model = Sequential()\n",
    "\n",
    "model.add(layers.Conv2D(32, (3,3), activation='relu', input_shape=(256, 256, 3)))\n",
    "model.add(layers.MaxPool2D(2,2))\n",
    "model.add(layers.Conv2D(64, (3,3), activation='relu'))\n",
    "model.add(layers.MaxPool2D(2,2))\n",
    "model.add(layers.Conv2D(128, (3,3), activation='relu'))\n",
    "model.add(layers.MaxPool2D(2,2))\n",
    "model.add(layers.Flatten())\n",
    "model.add(layers.Dense(256, activation='relu'))\n",
    "model.add(layers.Dropout(0.2))\n",
    "model.add(layers.Dense(10))\n",
    "\n",
    "model.compile(loss=tf.keras.losses.CategoricalCrossentropy(from_logits=True), metrics=['accuracy'], optimizer='adam')\n",
    "\n",
    "history = model.fit(image_data_gen, epochs=11)"
   ]
  },
  {
   "cell_type": "code",
   "execution_count": 23,
   "metadata": {},
   "outputs": [
    {
     "ename": "NameError",
     "evalue": "name 'model' is not defined",
     "output_type": "error",
     "traceback": [
      "\u001b[0;31m---------------------------------------------------------------------------\u001b[0m",
      "\u001b[0;31mNameError\u001b[0m                                 Traceback (most recent call last)",
      "\u001b[0;32m<ipython-input-23-5f15418b3570>\u001b[0m in \u001b[0;36m<module>\u001b[0;34m\u001b[0m\n\u001b[0;32m----> 1\u001b[0;31m \u001b[0mmodel\u001b[0m\u001b[0;34m.\u001b[0m\u001b[0msummary\u001b[0m\u001b[0;34m(\u001b[0m\u001b[0;34m)\u001b[0m\u001b[0;34m\u001b[0m\u001b[0m\n\u001b[0m",
      "\u001b[0;31mNameError\u001b[0m: name 'model' is not defined"
     ]
    }
   ],
   "source": [
    "model.summary()"
   ]
  },
  {
   "cell_type": "code",
   "execution_count": 24,
   "metadata": {},
   "outputs": [
    {
     "ename": "NameError",
     "evalue": "name 'model' is not defined",
     "output_type": "error",
     "traceback": [
      "\u001b[0;31m---------------------------------------------------------------------------\u001b[0m",
      "\u001b[0;31mNameError\u001b[0m                                 Traceback (most recent call last)",
      "\u001b[0;32m<ipython-input-24-16af1dff1a7b>\u001b[0m in \u001b[0;36m<module>\u001b[0;34m\u001b[0m\n\u001b[0;32m----> 1\u001b[0;31m \u001b[0mmodel\u001b[0m\u001b[0;34m.\u001b[0m\u001b[0mevaluate\u001b[0m\u001b[0;34m(\u001b[0m\u001b[0mimage_data_gen\u001b[0m\u001b[0;34m)\u001b[0m\u001b[0;34m\u001b[0m\u001b[0m\n\u001b[0m",
      "\u001b[0;31mNameError\u001b[0m: name 'model' is not defined"
     ]
    }
   ],
   "source": [
    "model.evaluate(image_data_gen)"
   ]
  },
  {
   "cell_type": "code",
   "execution_count": null,
   "metadata": {},
   "outputs": [],
   "source": []
  }
 ],
 "metadata": {
  "kernelspec": {
   "display_name": "Python 3",
   "language": "python",
   "name": "python3"
  },
  "language_info": {
   "codemirror_mode": {
    "name": "ipython",
    "version": 3
   },
   "file_extension": ".py",
   "mimetype": "text/x-python",
   "name": "python",
   "nbconvert_exporter": "python",
   "pygments_lexer": "ipython3",
   "version": "3.6.6"
  }
 },
 "nbformat": 4,
 "nbformat_minor": 4
}
