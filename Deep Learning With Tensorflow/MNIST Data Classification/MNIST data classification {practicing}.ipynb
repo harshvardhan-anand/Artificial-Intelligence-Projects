{
 "cells": [
  {
   "cell_type": "markdown",
   "metadata": {},
   "source": [
    "# ALGORITHM"
   ]
  },
  {
   "cell_type": "code",
   "execution_count": 6,
   "metadata": {
    "collapsed": true
   },
   "outputs": [],
   "source": [
    "#import tensorflow\n",
    "\n",
    "# import data\n",
    "\n",
    "# visualise data\n",
    "\n",
    "# placeholder\n",
    "    #--> xph\n",
    "    #--> y_true\n",
    "# variable\n",
    "    #--> w\n",
    "    #--> b\n",
    "    \n",
    "# model\n",
    "    #--> y_model\n",
    "    #-->w\n",
    "    #-->b\n",
    "    \n",
    "    #y_model = xph * w + b\n",
    "    \n",
    "#error calculation\n",
    "    #-->cross_entropy\n",
    "    #--> softmax\n",
    "    \n",
    "#error_reduction\n",
    "    #--> optimiser = gradient_descent\n",
    "    #--> minimise\n",
    "    \n",
    "#initialise variables by global variable initialiser\n",
    "\n",
    "#run the session with feed dictionary and batch_size\n",
    "    \n",
    "#check the accuracy"
   ]
  },
  {
   "cell_type": "code",
   "execution_count": 7,
   "metadata": {
    "collapsed": true
   },
   "outputs": [],
   "source": [
    "import tensorflow as tf"
   ]
  },
  {
   "cell_type": "code",
   "execution_count": 8,
   "metadata": {
    "collapsed": true
   },
   "outputs": [],
   "source": [
    "from tensorflow.examples.tutorials.mnist import input_data"
   ]
  },
  {
   "cell_type": "code",
   "execution_count": 9,
   "metadata": {},
   "outputs": [
    {
     "name": "stdout",
     "output_type": "stream",
     "text": [
      "Extracting MNIST_Data_Set\\train-images-idx3-ubyte.gz\n",
      "Extracting MNIST_Data_Set\\train-labels-idx1-ubyte.gz\n",
      "Extracting MNIST_Data_Set\\t10k-images-idx3-ubyte.gz\n",
      "Extracting MNIST_Data_Set\\t10k-labels-idx1-ubyte.gz\n"
     ]
    }
   ],
   "source": [
    "mnist = input_data.read_data_sets('MNIST_Data_Set', one_hot = True)"
   ]
  },
  {
   "cell_type": "code",
   "execution_count": null,
   "metadata": {
    "collapsed": true
   },
   "outputs": [],
   "source": [
    "#import tensorflow\n",
    "\n",
    "# import data\n",
    "\n",
    "# visualise data\n",
    "\n",
    "# placeholder\n",
    "    #--> xph\n",
    "    #--> y_true\n",
    "    \n",
    "# variable\n",
    "    #--> w\n",
    "    #--> b\n",
    "    \n",
    "# model\n",
    "    #--> y_model\n",
    "    #-->w\n",
    "    #-->b\n",
    "    \n",
    "    #y_model = xph * w + b\n",
    "    \n",
    "#error calculation\n",
    "    #-->cross_entropy\n",
    "    #--> softmax\n",
    "    \n",
    "#error_reduction\n",
    "    #--> optimiser = gradient_descent\n",
    "    #--> minimise\n",
    "    \n",
    "#initialise variables by global variable initialiser\n",
    "\n",
    "#run the session with feed dictionary and batch_size\n",
    "    \n",
    "#check the accuracy"
   ]
  },
  {
   "cell_type": "code",
   "execution_count": null,
   "metadata": {
    "collapsed": true
   },
   "outputs": [],
   "source": []
  }
 ],
 "metadata": {
  "kernelspec": {
   "display_name": "Python 3",
   "language": "python",
   "name": "python3"
  },
  "language_info": {
   "codemirror_mode": {
    "name": "ipython",
    "version": 3
   },
   "file_extension": ".py",
   "mimetype": "text/x-python",
   "name": "python",
   "nbconvert_exporter": "python",
   "pygments_lexer": "ipython3",
   "version": "3.5.4"
  }
 },
 "nbformat": 4,
 "nbformat_minor": 2
}
