{
 "cells": [
  {
   "cell_type": "markdown",
   "metadata": {},
   "source": [
    "# Algorithm\n",
    "---\n",
    "1. wait until the page is opened or click on the globe sign of no internet page tab\n",
    "1. space bar to start\n",
    "2. jump 3px before the tree\n",
    "3. couch 2px before the bird\n",
    "---"
   ]
  },
  {
   "cell_type": "code",
   "execution_count": 255,
   "metadata": {},
   "outputs": [],
   "source": [
    "def load():\n",
    "    global pg, cv2, time, keyboard\n",
    "    import pyautogui as pg\n",
    "    import cv2\n",
    "    import time\n",
    "    import keyboard"
   ]
  },
  {
   "cell_type": "code",
   "execution_count": 22,
   "metadata": {},
   "outputs": [
    {
     "data": {
      "text/plain": [
       "Box(left=438, top=186, width=28, height=56)"
      ]
     },
     "execution_count": 22,
     "metadata": {},
     "output_type": "execute_result"
    }
   ],
   "source": [
    "# location of cactus\n",
    "time.sleep(2)\n",
    "pg.locateOnScreen('cactus.png', confidence=0.5)  # always use confidence as sometimes it wont detect without confidence"
   ]
  },
  {
   "cell_type": "code",
   "execution_count": 20,
   "metadata": {},
   "outputs": [],
   "source": [
    "time.sleep(5)\n",
    "pg.moveTo(460, 210)  # location of cactus after which we need to jump"
   ]
  },
  {
   "cell_type": "code",
   "execution_count": 25,
   "metadata": {},
   "outputs": [
    {
     "data": {
      "text/plain": [
       "Box(left=407, top=193, width=45, height=53)"
      ]
     },
     "execution_count": 25,
     "metadata": {},
     "output_type": "execute_result"
    }
   ],
   "source": [
    "time.sleep(2)\n",
    "pg.locateOnScreen('dina.png', confidence=0.55)  # location of dinasaur"
   ]
  },
  {
   "cell_type": "code",
   "execution_count": 54,
   "metadata": {},
   "outputs": [],
   "source": [
    "time.sleep(3)\n",
    "pg.moveTo(407, 193)\n",
    "pg.moveRel(56, 30)  #location relative to dina when there is catus"
   ]
  },
  {
   "cell_type": "code",
   "execution_count": 46,
   "metadata": {},
   "outputs": [
    {
     "data": {
      "text/plain": [
       "(83, 83, 83)"
      ]
     },
     "execution_count": 46,
     "metadata": {},
     "output_type": "execute_result"
    }
   ],
   "source": [
    "# get pixel values of cactus\n",
    "time.sleep(3)\n",
    "pg.pixel(464, 223)"
   ]
  },
  {
   "cell_type": "code",
   "execution_count": 286,
   "metadata": {},
   "outputs": [
    {
     "data": {
      "text/plain": [
       "Box(left=700, top=186, width=28, height=56)"
      ]
     },
     "execution_count": 286,
     "metadata": {},
     "output_type": "execute_result"
    }
   ],
   "source": [
    "pg.click('resources/not_connected.png')\n",
    "a = pg.locateOnScreen('resources/cactus.png', confidence=0.5)\n",
    "a"
   ]
  },
  {
   "cell_type": "code",
   "execution_count": 319,
   "metadata": {},
   "outputs": [],
   "source": [
    "# get pixel values of cactus\n",
    "pg.click('resources/not_connected.png')\n",
    "# img = pg.screenshot()\n",
    "pg.moveTo(490, 230)\n",
    "# img.getpixel((443, 185))"
   ]
  },
  {
   "cell_type": "code",
   "execution_count": null,
   "metadata": {},
   "outputs": [],
   "source": []
  },
  {
   "cell_type": "code",
   "execution_count": null,
   "metadata": {},
   "outputs": [],
   "source": []
  },
  {
   "cell_type": "code",
   "execution_count": null,
   "metadata": {},
   "outputs": [],
   "source": []
  },
  {
   "cell_type": "code",
   "execution_count": null,
   "metadata": {},
   "outputs": [],
   "source": []
  },
  {
   "cell_type": "code",
   "execution_count": null,
   "metadata": {},
   "outputs": [],
   "source": []
  },
  {
   "cell_type": "markdown",
   "metadata": {},
   "source": [
    "**Timing is the key, only fast program will be executed**"
   ]
  },
  {
   "cell_type": "code",
   "execution_count": 267,
   "metadata": {},
   "outputs": [],
   "source": [
    "def debug():\n",
    "    global i\n",
    "#     print(pg.pixelMatchesColor(462, 230, (83, 83, 83)))\n",
    "    print(pg.pixel(462, 230))\n",
    "    \n",
    "#     saving screen shots for analysis\n",
    "#     img = pg.screenshot('record'+str(i)+'.png')\n",
    "#     img.getpixel((462, 230))\n",
    "#     i+=1"
   ]
  },
  {
   "cell_type": "code",
   "execution_count": 303,
   "metadata": {},
   "outputs": [],
   "source": [
    "def run():\n",
    "    global flag\n",
    "    if flag:\n",
    "        pg.press('space')  # start the game\n",
    "        flag=0\n",
    "#     debug()\n",
    "    if (pg.pixelMatchesColor(470, 230, (83, 83, 83))):\n",
    "        pg.press('space')"
   ]
  },
  {
   "cell_type": "code",
   "execution_count": 304,
   "metadata": {},
   "outputs": [],
   "source": [
    "def main():\n",
    "    global flag\n",
    "    flag=1\n",
    "    while True:\n",
    "        if keyboard.is_pressed('q'):\n",
    "            break\n",
    "        run()\n",
    "#         if type(pg.locateOnScreen('resources/gameover.png', confidence=0.8))==pg.pyscreeze.Box:\n",
    "#             if pg.confirm(\"Re-run the game\")=='OK':\n",
    "#                 flag=1\n",
    "#                 run()\n",
    "#             else:break\n",
    "    "
   ]
  },
  {
   "cell_type": "code",
   "execution_count": 317,
   "metadata": {},
   "outputs": [],
   "source": [
    "def main_run():\n",
    "    flag=1\n",
    "    if flag:\n",
    "        pg.press('space')\n",
    "        flag=0\n",
    "    while True:\n",
    "        if keyboard.is_pressed('q'):\n",
    "            break\n",
    "        if pg.pixelMatchesColor(490, 230, (83, 83, 83), 2):\n",
    "            pg.press('space')"
   ]
  },
  {
   "cell_type": "code",
   "execution_count": 318,
   "metadata": {},
   "outputs": [],
   "source": [
    "try:\n",
    "    load()\n",
    "    pg.click('resources/not_connected.png')\n",
    "except:\n",
    "    print('Cannot find the location on the screen')\n",
    "else:\n",
    "    main_run()"
   ]
  },
  {
   "cell_type": "code",
   "execution_count": null,
   "metadata": {},
   "outputs": [],
   "source": []
  }
 ],
 "metadata": {
  "kernelspec": {
   "display_name": "Python 3",
   "language": "python",
   "name": "python3"
  },
  "language_info": {
   "codemirror_mode": {
    "name": "ipython",
    "version": 3
   },
   "file_extension": ".py",
   "mimetype": "text/x-python",
   "name": "python",
   "nbconvert_exporter": "python",
   "pygments_lexer": "ipython3",
   "version": "3.7.1"
  }
 },
 "nbformat": 4,
 "nbformat_minor": 4
}
